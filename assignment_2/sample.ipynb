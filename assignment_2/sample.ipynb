{
 "cells": [
  {
   "metadata": {},
   "cell_type": "markdown",
   "source": "### Imports",
   "id": "c54def80bca24ce6"
  },
  {
   "metadata": {
    "ExecuteTime": {
     "end_time": "2024-09-11T17:11:31.243586Z",
     "start_time": "2024-09-11T17:11:31.237801Z"
    }
   },
   "cell_type": "code",
   "source": [
    "from random import choice\n",
    "from random import random"
   ],
   "id": "d54c510e3a87df2c",
   "outputs": [],
   "execution_count": 520
  },
  {
   "metadata": {},
   "cell_type": "markdown",
   "source": "### Variable definitions",
   "id": "9817e8a4d19444f8"
  },
  {
   "metadata": {
    "ExecuteTime": {
     "end_time": "2024-09-11T17:11:31.321927Z",
     "start_time": "2024-09-11T17:11:31.313828Z"
    }
   },
   "cell_type": "code",
   "source": [
    "\n",
    "\n",
    "\n",
    "patients = [\n",
    "    {'Menopause ge40': True, 'Inv-nodes 3-5': True, 'Deg-malign 3': True},\n",
    "    {'Menopause lt40': True, 'Inv-nodes 0-2': True, 'Deg-malign 3': True},\n",
    "    {'Menopause ge40': True, 'Inv-nodes 6-8': True, 'Deg-malign 3': True},\n",
    "    {'Menopause ge40': True, 'Inv-nodes 0-2': True, 'Deg-malign 2': True},\n",
    "    {'Menopause premeno': True, 'Inv-nodes 0-2': True, 'Deg-malign 3': True},\n",
    "    {'Menopause premeno':True , 'Inv-nodes 0-2': True, 'Deg-malign 1': True}\n",
    "]\n",
    "\n",
    "Rules = [{'Deg-malign 3', 'NOT Menopause lt40'},\n",
    "         {'Deg-malign 3'},\n",
    "         {'NOT Inv-nodes 0-2'}]\n"
   ],
   "id": "bca4014056d7baf5",
   "outputs": [],
   "execution_count": 521
  },
  {
   "metadata": {},
   "cell_type": "markdown",
   "source": "### Evaluation of features based on rules",
   "id": "8a77807f92f26ee"
  },
  {
   "metadata": {
    "ExecuteTime": {
     "end_time": "2024-09-11T17:11:31.397525Z",
     "start_time": "2024-09-11T17:11:31.373122Z"
    }
   },
   "cell_type": "code",
   "source": [
    "def evaluate_condition(observation, condition):\n",
    "    truth_value_of_condition = True\n",
    "    for feature in observation:\n",
    "        if feature in condition and observation[feature] == False:\n",
    "            truth_value_of_condition = False\n",
    "            break\n",
    "        if 'NOT ' + feature in condition and observation[feature] == True:\n",
    "            truth_value_of_condition = False\n",
    "            break\n",
    "    return truth_value_of_condition\n"
   ],
   "id": "fbc121e30a2defb3",
   "outputs": [],
   "execution_count": 522
  },
  {
   "metadata": {},
   "cell_type": "markdown",
   "source": "### Memory system",
   "id": "2b0d2b98902bca93"
  },
  {
   "metadata": {
    "ExecuteTime": {
     "end_time": "2024-09-11T17:11:31.469614Z",
     "start_time": "2024-09-11T17:11:31.456856Z"
    }
   },
   "cell_type": "code",
   "source": [
    "class Memory:\n",
    "    def __init__(self, forget_value, memorize_value, memory):\n",
    "        self.memory = memory\n",
    "        self.forget_value = forget_value\n",
    "        self.memorize_value = memorize_value\n",
    "        self.memoryAmount = 100\n",
    "        self.memoryLine = (self.memoryAmount / 2) + 1\n",
    "\n",
    "    def get_memory(self):\n",
    "        return self.memory\n",
    "\n",
    "    def get_literals(self):\n",
    "        return list(self.memory.keys())\n",
    "\n",
    "    def get_condition(self):\n",
    "        condition = []\n",
    "        for literal in self.memory:\n",
    "            if self.memory[literal] >= self.memoryLine:\n",
    "                condition.append(literal)\n",
    "        return condition\n",
    "\n",
    "    def memorize(self, literal):\n",
    "        if random() <= self.memorize_value and self.memory[literal] < self.memoryAmount:\n",
    "            self.memory[literal] += 1\n",
    "\n",
    "    def forget(self, literal):\n",
    "        if random() <= self.forget_value and self.memory[literal] > 1:\n",
    "            self.memory[literal] -= 1\n",
    "\n",
    "    def memorize_always(self, literal):\n",
    "        if  self.memory[literal] < self.memoryAmount:\n",
    "            self.memory[literal] += 1"
   ],
   "id": "f35c591d36cbc6bb",
   "outputs": [],
   "execution_count": 523
  },
  {
   "metadata": {},
   "cell_type": "markdown",
   "source": "### Type i and ii feedback",
   "id": "33f61813499db1de"
  },
  {
   "metadata": {
    "ExecuteTime": {
     "end_time": "2024-09-11T17:11:31.512662Z",
     "start_time": "2024-09-11T17:11:31.500770Z"
    }
   },
   "cell_type": "code",
   "source": [
    "def type_i_feedback(observation, memory):\n",
    "    remaining_literals = memory.get_literals()\n",
    "    #print(remaining_literals)\n",
    "    if evaluate_condition(observation, memory.get_condition()):\n",
    "        for feature in observation:\n",
    "            #print('Feature: ' + feature)\n",
    "            if observation[feature]:\n",
    "                memory.memorize(feature)\n",
    "                remaining_literals.remove(feature)\n",
    "            elif not observation[feature]:\n",
    "                memory.memorize('NOT ' + feature)\n",
    "                remaining_literals.remove('NOT ' + feature)\n",
    "    for literal in remaining_literals:\n",
    "        #print('Remaining Literal:' + literal)\n",
    "        memory.forget(literal)\n",
    "        \n",
    "def type_ii_feedback(observation, memory):\n",
    "    if evaluate_condition(observation, memory.get_condition()):\n",
    "        for feature in observation:\n",
    "            if not observation[feature]:\n",
    "                memory.memorize_always(feature)\n",
    "            elif observation[feature]:\n",
    "                memory.memorize_always('NOT ' + feature)"
   ],
   "id": "d4e63abb84517955",
   "outputs": [],
   "execution_count": 524
  },
  {
   "metadata": {},
   "cell_type": "markdown",
   "source": "### Boolinization of multi-valued properties ",
   "id": "ca7f2e09e0d7545b"
  },
  {
   "metadata": {
    "ExecuteTime": {
     "end_time": "2024-09-11T17:11:31.551796Z",
     "start_time": "2024-09-11T17:11:31.526624Z"
    }
   },
   "cell_type": "code",
   "source": [
    "def GenerateRules():\n",
    "    StartingMemory = 50\n",
    "    RecurrenceConditions = {}\n",
    "    \n",
    "    # Design-malign rules\n",
    "    for i in range(3):\n",
    "        RecurrenceConditions[f'Deg-malign {str(i+1)}'] = StartingMemory\n",
    "    for i in range(3):\n",
    "        RecurrenceConditions[f'NOT Deg-malign {str(i+1)}'] = StartingMemory\n",
    "\n",
    "    # Menopause\n",
    "    Menopause = ['ge40', 'lt40', 'premeno']\n",
    "    for menop in Menopause:\n",
    "        RecurrenceConditions[f'Menopause {menop}'] = StartingMemory\n",
    "    for menop in Menopause:\n",
    "        RecurrenceConditions[f'NOT Menopause {menop}'] = StartingMemory\n",
    "\n",
    "    # Inv-nodes\n",
    "    InvNodes = ['0-2', '3-5', '6-8']\n",
    "    for invnode in InvNodes:\n",
    "        RecurrenceConditions[f'Inv-nodes {invnode}'] = StartingMemory\n",
    "    for invnode in InvNodes:\n",
    "        RecurrenceConditions[f'NOT Inv-nodes {invnode}'] = StartingMemory\n",
    "    \n",
    "    return RecurrenceConditions"
   ],
   "id": "d6ae241077ffff45",
   "outputs": [],
   "execution_count": 525
  },
  {
   "metadata": {},
   "cell_type": "markdown",
   "source": "### Classifying the patients and seperating them",
   "id": "a7bbe719fc4fea7f"
  },
  {
   "metadata": {
    "ExecuteTime": {
     "end_time": "2024-09-11T17:11:31.592801Z",
     "start_time": "2024-09-11T17:11:31.579014Z"
    }
   },
   "cell_type": "code",
   "source": [
    "ReccurentPatients = []\n",
    "NonReccurentPatients = []\n",
    "\n",
    "def ManuallyClassify(observation, rules):\n",
    "    votes = 0\n",
    "    for feature in observation:\n",
    "        for rule in rules:\n",
    "            if feature in rule and observation[feature] == True:\n",
    "                votes += 1\n",
    "            if 'NOT ' + feature in rule and observation[feature] == True:\n",
    "                votes -= 1\n",
    "    if votes > 0:\n",
    "        ReccurentPatients.append(observation)\n",
    "        return \"Recurrence\"\n",
    "    if votes <= 0:\n",
    "        NonReccurentPatients.append(observation)\n",
    "        return \"Non-Recurrence\"\n",
    "\n",
    "for patient in patients:\n",
    "    print(ManuallyClassify(patient, Rules))\n",
    "\n",
    "print('##############################   RECURRENT PATIENTS    ############################################')    \n",
    "print(ReccurentPatients)\n",
    "print('#############################   NON-RECURRENT PATIENTS   ##########################################')    \n",
    "print(NonReccurentPatients)"
   ],
   "id": "d9c4ac04adb610b7",
   "outputs": [
    {
     "name": "stdout",
     "output_type": "stream",
     "text": [
      "Recurrence\n",
      "Non-Recurrence\n",
      "Recurrence\n",
      "Non-Recurrence\n",
      "Recurrence\n",
      "Non-Recurrence\n",
      "##############################   RECURRENT PATIENTS    ############################################\n",
      "[{'Menopause ge40': True, 'Inv-nodes 3-5': True, 'Deg-malign 3': True}, {'Menopause ge40': True, 'Inv-nodes 6-8': True, 'Deg-malign 3': True}, {'Menopause premeno': True, 'Inv-nodes 0-2': True, 'Deg-malign 3': True}]\n",
      "#############################   NON-RECURRENT PATIENTS   ##########################################\n",
      "[{'Menopause lt40': True, 'Inv-nodes 0-2': True, 'Deg-malign 3': True}, {'Menopause ge40': True, 'Inv-nodes 0-2': True, 'Deg-malign 2': True}, {'Menopause premeno': True, 'Inv-nodes 0-2': True, 'Deg-malign 1': True}]\n"
     ]
    }
   ],
   "execution_count": 526
  },
  {
   "metadata": {},
   "cell_type": "markdown",
   "source": "### Learning recurrence rule (forget: 0.8, memorize: 0.2)",
   "id": "aed4d30c60111d30"
  },
  {
   "metadata": {
    "ExecuteTime": {
     "end_time": "2024-09-11T17:17:38.254403Z",
     "start_time": "2024-09-11T17:17:38.142713Z"
    }
   },
   "cell_type": "code",
   "source": [
    "RecurrenceRule = Memory(0.8,0.2,GenerateRules())\n",
    "for i in range(10000):\n",
    "    observation_id = choice([0,1,2])\n",
    "    patient = choice([0,1])\n",
    "    if patient == 1:\n",
    "        type_i_feedback(ReccurentPatients[observation_id], RecurrenceRule)\n",
    "    else:\n",
    "        type_ii_feedback(NonReccurentPatients[observation_id], RecurrenceRule)\n",
    "\n",
    "print('#############################   GET MEMORY   ##########################################')     \n",
    "print(RecurrenceRule.get_memory())\n",
    "print('############################  GET CONDITION  ##########################################')\n",
    "print(RecurrenceRule.get_condition())"
   ],
   "id": "2c1622c946354c4f",
   "outputs": [
    {
     "name": "stdout",
     "output_type": "stream",
     "text": [
      "#############################   GET MEMORY   ##########################################\n",
      "{'Deg-malign 1': 1, 'Deg-malign 2': 1, 'Deg-malign 3': 100, 'NOT Deg-malign 1': 1, 'NOT Deg-malign 2': 1, 'NOT Deg-malign 3': 2, 'Menopause ge40': 3, 'Menopause lt40': 1, 'Menopause premeno': 1, 'NOT Menopause ge40': 1, 'NOT Menopause lt40': 1, 'NOT Menopause premeno': 1, 'Inv-nodes 0-2': 1, 'Inv-nodes 3-5': 1, 'Inv-nodes 6-8': 1, 'NOT Inv-nodes 0-2': 49, 'NOT Inv-nodes 3-5': 1, 'NOT Inv-nodes 6-8': 1}\n",
      "############################  GET CONDITION  ##########################################\n",
      "['Deg-malign 3']\n"
     ]
    }
   ],
   "execution_count": 591
  },
  {
   "metadata": {},
   "cell_type": "markdown",
   "source": "### Learning non-recurrence rule (forget: 0.8, memorize: 0.2)",
   "id": "64e023b2a9637270"
  },
  {
   "metadata": {
    "ExecuteTime": {
     "end_time": "2024-09-11T17:17:35.608613Z",
     "start_time": "2024-09-11T17:17:35.481856Z"
    }
   },
   "cell_type": "code",
   "source": [
    "NonRecurrenceRule = Memory(0.8, 0.2, GenerateRules())\n",
    "for i in range(10000):\n",
    "    observation_id = choice([0, 1, 2])\n",
    "    patient = choice([0, 1])\n",
    "    if patient == 1:\n",
    "        type_i_feedback(NonReccurentPatients[observation_id], NonRecurrenceRule)\n",
    "    else:\n",
    "        type_ii_feedback(ReccurentPatients[observation_id], NonRecurrenceRule)\n",
    "\n",
    "print('#############################   GET MEMORY   ##########################################')\n",
    "print(NonRecurrenceRule.get_memory())\n",
    "print('############################  GET CONDITION  ##########################################')\n",
    "print(NonRecurrenceRule.get_condition())"
   ],
   "id": "b1575800345f0885",
   "outputs": [
    {
     "name": "stdout",
     "output_type": "stream",
     "text": [
      "#############################   GET MEMORY   ##########################################\n",
      "{'Deg-malign 1': 1, 'Deg-malign 2': 2, 'Deg-malign 3': 1, 'NOT Deg-malign 1': 1, 'NOT Deg-malign 2': 1, 'NOT Deg-malign 3': 50, 'Menopause ge40': 2, 'Menopause lt40': 1, 'Menopause premeno': 1, 'NOT Menopause ge40': 2, 'NOT Menopause lt40': 1, 'NOT Menopause premeno': 1, 'Inv-nodes 0-2': 99, 'Inv-nodes 3-5': 1, 'Inv-nodes 6-8': 1, 'NOT Inv-nodes 0-2': 1, 'NOT Inv-nodes 3-5': 1, 'NOT Inv-nodes 6-8': 2}\n",
      "############################  GET CONDITION  ##########################################\n",
      "['Inv-nodes 0-2']\n"
     ]
    }
   ],
   "execution_count": 590
  },
  {
   "metadata": {},
   "cell_type": "markdown",
   "source": "### Classify patients  ",
   "id": "117f4e2846e7d451"
  },
  {
   "metadata": {
    "ExecuteTime": {
     "end_time": "2024-09-11T17:17:41.907500Z",
     "start_time": "2024-09-11T17:17:41.894940Z"
    }
   },
   "cell_type": "code",
   "source": [
    "def classify(observation, RecurrenceRules, NonRecurrenceRules):\n",
    "    vote_sum = 0\n",
    "    for RecurrenceRule in RecurrenceRules:\n",
    "        if evaluate_condition(observation, RecurrenceRule.get_condition()):\n",
    "            vote_sum += 1\n",
    "    for NonRecurrenceRule in NonRecurrenceRules:\n",
    "        if evaluate_condition(observation, NonRecurrenceRule.get_condition()):\n",
    "            vote_sum -= 1\n",
    "    if vote_sum > 0:\n",
    "        return \"Recurrence\"\n",
    "    if vote_sum <= 0:\n",
    "        return \"Non-Recurrence\"\n",
    "    \n",
    "for patient in patients:\n",
    "    print(classify(patient, [RecurrenceRule], [NonRecurrenceRule]))"
   ],
   "id": "ddc520b8fb4db3cc",
   "outputs": [
    {
     "name": "stdout",
     "output_type": "stream",
     "text": [
      "Non-Recurrence\n",
      "Non-Recurrence\n",
      "Non-Recurrence\n",
      "Non-Recurrence\n",
      "Non-Recurrence\n",
      "Non-Recurrence\n"
     ]
    }
   ],
   "execution_count": 596
  },
  {
   "metadata": {},
   "cell_type": "markdown",
   "source": "### Task 7",
   "id": "a40a62fbb0802e64"
  },
  {
   "metadata": {
    "ExecuteTime": {
     "end_time": "2024-09-11T17:24:37.343837Z",
     "start_time": "2024-09-11T17:24:37.143293Z"
    }
   },
   "cell_type": "code",
   "source": [
    "RecurrenceRule = Memory(0.5,0.5,GenerateRules())\n",
    "for i in range(10000):\n",
    "    observation_id = choice([0,1,2])\n",
    "    patient = choice([0,1])\n",
    "    if patient == 1:\n",
    "        type_i_feedback(ReccurentPatients[observation_id], RecurrenceRule)\n",
    "    else:\n",
    "        type_ii_feedback(NonReccurentPatients[observation_id], RecurrenceRule)\n",
    "\n",
    "print('#############################   GET MEMORY   ##########################################')     \n",
    "print(RecurrenceRule.get_memory())\n",
    "print('############################  GET CONDITION  ##########################################')\n",
    "print(RecurrenceRule.get_condition())\n",
    "print()\n",
    "\n",
    "NonRecurrenceRule = Memory(0.5, 0.5, GenerateRules())\n",
    "for i in range(10000):\n",
    "    observation_id = choice([0, 1, 2])\n",
    "    patient = choice([0, 1])\n",
    "    if patient == 1:\n",
    "        type_i_feedback(NonReccurentPatients[observation_id], NonRecurrenceRule)\n",
    "    else:\n",
    "        type_ii_feedback(ReccurentPatients[observation_id], NonRecurrenceRule)\n",
    "\n",
    "print('#############################   GET MEMORY   ##########################################')\n",
    "print(NonRecurrenceRule.get_memory())\n",
    "print('############################  GET CONDITION  ##########################################')\n",
    "print(NonRecurrenceRule.get_condition())\n",
    "print()\n",
    "\n",
    "def classify(observation, RecurrenceRules, NonRecurrenceRules):\n",
    "    vote_sum = 0\n",
    "    for RecurrenceRule in RecurrenceRules:\n",
    "        if evaluate_condition(observation, RecurrenceRule.get_condition()):\n",
    "            vote_sum += 1\n",
    "    for NonRecurrenceRule in NonRecurrenceRules:\n",
    "        if evaluate_condition(observation, NonRecurrenceRule.get_condition()):\n",
    "            vote_sum -= 1\n",
    "    if vote_sum > 0:\n",
    "        return \"Recurrence\"\n",
    "    if vote_sum <= 0:\n",
    "        return \"Non-Recurrence\"\n",
    "\n",
    "print('################ Classification run ##################')\n",
    "for patient in patients:\n",
    "    print(classify(patient, [RecurrenceRule], [NonRecurrenceRule]))"
   ],
   "id": "2c917e88ccc2d555",
   "outputs": [
    {
     "name": "stdout",
     "output_type": "stream",
     "text": [
      "#############################   GET MEMORY   ##########################################\n",
      "{'Deg-malign 1': 1, 'Deg-malign 2': 1, 'Deg-malign 3': 100, 'NOT Deg-malign 1': 1, 'NOT Deg-malign 2': 4, 'NOT Deg-malign 3': 1, 'Menopause ge40': 98, 'Menopause lt40': 1, 'Menopause premeno': 2, 'NOT Menopause ge40': 3, 'NOT Menopause lt40': 1, 'NOT Menopause premeno': 1, 'Inv-nodes 0-2': 1, 'Inv-nodes 3-5': 3, 'Inv-nodes 6-8': 1, 'NOT Inv-nodes 0-2': 51, 'NOT Inv-nodes 3-5': 1, 'NOT Inv-nodes 6-8': 1}\n",
      "############################  GET CONDITION  ##########################################\n",
      "['Deg-malign 3', 'Menopause ge40', 'NOT Inv-nodes 0-2']\n",
      "\n",
      "#############################   GET MEMORY   ##########################################\n",
      "{'Deg-malign 1': 3, 'Deg-malign 2': 1, 'Deg-malign 3': 3, 'NOT Deg-malign 1': 1, 'NOT Deg-malign 2': 1, 'NOT Deg-malign 3': 51, 'Menopause ge40': 1, 'Menopause lt40': 1, 'Menopause premeno': 2, 'NOT Menopause ge40': 2, 'NOT Menopause lt40': 1, 'NOT Menopause premeno': 3, 'Inv-nodes 0-2': 100, 'Inv-nodes 3-5': 1, 'Inv-nodes 6-8': 1, 'NOT Inv-nodes 0-2': 4, 'NOT Inv-nodes 3-5': 2, 'NOT Inv-nodes 6-8': 1}\n",
      "############################  GET CONDITION  ##########################################\n",
      "['NOT Deg-malign 3', 'Inv-nodes 0-2']\n",
      "\n",
      "################ Classification run ##################\n",
      "Recurrence\n",
      "Non-Recurrence\n",
      "Recurrence\n",
      "Non-Recurrence\n",
      "Non-Recurrence\n",
      "Non-Recurrence\n"
     ]
    }
   ],
   "execution_count": 694
  },
  {
   "metadata": {},
   "cell_type": "markdown",
   "source": "### Task 8",
   "id": "2800f09b6effff0e"
  },
  {
   "metadata": {
    "ExecuteTime": {
     "end_time": "2024-09-11T17:24:57.959779Z",
     "start_time": "2024-09-11T17:24:57.759644Z"
    }
   },
   "cell_type": "code",
   "source": [
    "RecurrenceRule = Memory(0.2,0.8,GenerateRules())\n",
    "for i in range(10000):\n",
    "    observation_id = choice([0,1,2])\n",
    "    patient = choice([0,1])\n",
    "    if patient == 1:\n",
    "        type_i_feedback(ReccurentPatients[observation_id], RecurrenceRule)\n",
    "    else:\n",
    "        type_ii_feedback(NonReccurentPatients[observation_id], RecurrenceRule)\n",
    "\n",
    "print('#############################   GET MEMORY   ##########################################')     \n",
    "print(RecurrenceRule.get_memory())\n",
    "print('############################  GET CONDITION  ##########################################')\n",
    "print(RecurrenceRule.get_condition())\n",
    "print()\n",
    "\n",
    "NonRecurrenceRule = Memory(0.2, 0.8, GenerateRules())\n",
    "for i in range(10000):\n",
    "    observation_id = choice([0, 1, 2])\n",
    "    patient = choice([0, 1])\n",
    "    if patient == 1:\n",
    "        type_i_feedback(NonReccurentPatients[observation_id], NonRecurrenceRule)\n",
    "    else:\n",
    "        type_ii_feedback(ReccurentPatients[observation_id], NonRecurrenceRule)\n",
    "\n",
    "print('#############################   GET MEMORY   ##########################################')\n",
    "print(NonRecurrenceRule.get_memory())\n",
    "print('############################  GET CONDITION  ##########################################')\n",
    "print(NonRecurrenceRule.get_condition())\n",
    "print()\n",
    "\n",
    "def classify(observation, RecurrenceRules, NonRecurrenceRules):\n",
    "    vote_sum = 0\n",
    "    for RecurrenceRule in RecurrenceRules:\n",
    "        if evaluate_condition(observation, RecurrenceRule.get_condition()):\n",
    "            vote_sum += 1\n",
    "    for NonRecurrenceRule in NonRecurrenceRules:\n",
    "        if evaluate_condition(observation, NonRecurrenceRule.get_condition()):\n",
    "            vote_sum -= 1\n",
    "    if vote_sum > 0:\n",
    "        return \"Recurrence\"\n",
    "    if vote_sum <= 0:\n",
    "        return \"Non-Recurrence\"\n",
    "\n",
    "print('################ Classification run ##################')\n",
    "for patient in patients:\n",
    "    print(classify(patient, [RecurrenceRule], [NonRecurrenceRule]))"
   ],
   "id": "f80eb159a50367b7",
   "outputs": [
    {
     "name": "stdout",
     "output_type": "stream",
     "text": [
      "#############################   GET MEMORY   ##########################################\n",
      "{'Deg-malign 1': 1, 'Deg-malign 2': 1, 'Deg-malign 3': 100, 'NOT Deg-malign 1': 5, 'NOT Deg-malign 2': 1, 'NOT Deg-malign 3': 2, 'Menopause ge40': 100, 'Menopause lt40': 1, 'Menopause premeno': 4, 'NOT Menopause ge40': 1, 'NOT Menopause lt40': 1, 'NOT Menopause premeno': 1, 'Inv-nodes 0-2': 4, 'Inv-nodes 3-5': 100, 'Inv-nodes 6-8': 98, 'NOT Inv-nodes 0-2': 51, 'NOT Inv-nodes 3-5': 1, 'NOT Inv-nodes 6-8': 1}\n",
      "############################  GET CONDITION  ##########################################\n",
      "['Deg-malign 3', 'Menopause ge40', 'Inv-nodes 3-5', 'Inv-nodes 6-8', 'NOT Inv-nodes 0-2']\n",
      "\n",
      "#############################   GET MEMORY   ##########################################\n",
      "{'Deg-malign 1': 100, 'Deg-malign 2': 100, 'Deg-malign 3': 1, 'NOT Deg-malign 1': 1, 'NOT Deg-malign 2': 1, 'NOT Deg-malign 3': 51, 'Menopause ge40': 97, 'Menopause lt40': 1, 'Menopause premeno': 100, 'NOT Menopause ge40': 1, 'NOT Menopause lt40': 1, 'NOT Menopause premeno': 1, 'Inv-nodes 0-2': 100, 'Inv-nodes 3-5': 1, 'Inv-nodes 6-8': 1, 'NOT Inv-nodes 0-2': 1, 'NOT Inv-nodes 3-5': 1, 'NOT Inv-nodes 6-8': 1}\n",
      "############################  GET CONDITION  ##########################################\n",
      "['Deg-malign 1', 'Deg-malign 2', 'NOT Deg-malign 3', 'Menopause ge40', 'Menopause premeno', 'Inv-nodes 0-2']\n",
      "\n",
      "################ Classification run ##################\n",
      "Recurrence\n",
      "Non-Recurrence\n",
      "Recurrence\n",
      "Non-Recurrence\n",
      "Non-Recurrence\n",
      "Non-Recurrence\n"
     ]
    }
   ],
   "execution_count": 721
  }
 ],
 "metadata": {
  "kernelspec": {
   "display_name": "Python 3",
   "language": "python",
   "name": "python3"
  },
  "language_info": {
   "codemirror_mode": {
    "name": "ipython",
    "version": 2
   },
   "file_extension": ".py",
   "mimetype": "text/x-python",
   "name": "python",
   "nbconvert_exporter": "python",
   "pygments_lexer": "ipython2",
   "version": "2.7.6"
  }
 },
 "nbformat": 4,
 "nbformat_minor": 5
}
