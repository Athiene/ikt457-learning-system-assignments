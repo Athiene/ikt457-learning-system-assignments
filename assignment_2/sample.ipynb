{
 "cells": [
  {
   "metadata": {},
   "cell_type": "markdown",
   "source": [
    "# This is a sample Jupyter Notebook\n",
    "\n",
    "Below is an example of a code cell. \n",
    "Put your cursor into the cell and press Shift+Enter to execute it and select the next one, or click 'Run Cell' button.\n",
    "\n",
    "Press Double Shift to search everywhere for classes, files, tool windows, actions, and settings.\n",
    "\n",
    "To learn more about Jupyter Notebooks in PyCharm, see [help](https://www.jetbrains.com/help/pycharm/ipython-notebook-support.html).\n",
    "For an overview of PyCharm, go to Help -> Learn IDE features or refer to [our documentation](https://www.jetbrains.com/help/pycharm/getting-started.html)."
   ],
   "id": "8a77807f92f26ee"
  },
  {
   "metadata": {},
   "cell_type": "markdown",
   "source": "Here the patience are initliazed, ",
   "id": "b2de11468f07a350"
  },
  {
   "metadata": {},
   "cell_type": "markdown",
   "source": "",
   "id": "99803602d7762e9a"
  },
  {
   "metadata": {
    "ExecuteTime": {
     "end_time": "2024-09-17T19:20:17.946343Z",
     "start_time": "2024-09-17T19:20:17.943891Z"
    }
   },
   "cell_type": "code",
   "source": "",
   "id": "b22ce238e4fe1085",
   "outputs": [],
   "execution_count": null
  },
  {
   "metadata": {
    "ExecuteTime": {
     "end_time": "2024-09-17T19:20:17.998203Z",
     "start_time": "2024-09-17T19:20:17.993946Z"
    }
   },
   "cell_type": "code",
   "source": [
    "patient = [\n",
    "    {'ge40':True, 'it40':False, 'premeno':False, 'Deg-malig-3':True, 'Deg-malig-2':False, 'Deg-malig-1':False, 'Inv-nodes 0-2': False, 'Inv-nodes 3-5': True, 'Inv-nodes 6-8': False},\n",
    "    {'ge40':False, 'it40':True, 'premeno':False, 'Deg-malig-3':True, 'Deg-malig-2':False, 'Deg-malig-1':False, 'Inv-nodes 0-2': True, 'Inv-nodes 3-5': False, 'Inv-nodes 6-8': False},\n",
    "    {'ge40':True, 'it40':False, 'premeno':False, 'Deg-malig-3':True, 'Deg-malig-2':False, 'Deg-malig-1':False, 'Inv-nodes 0-2': False, 'Inv-nodes 3-5': False, 'Inv-nodes 6-8': True},\n",
    "    {'ge40':True, 'it40':False, 'premeno':False, 'Deg-malig-3': False, 'Deg-malig-2':True, 'Deg-malig-1':False, 'Inv-nodes 0-2': True, 'Inv-nodes 3-5': False, 'Inv-nodes 6-8': False},\n",
    "    {'ge40':False, 'it40':False, 'premeno':True, 'Deg-malig-3': True, 'Deg-malig-2':False, 'Deg-malig-1':False, 'Inv-nodes 0-2': True, 'Inv-nodes 3-5': False, 'Inv-nodes 6-8': False},\n",
    "    {'ge40':False, 'it40':False, 'premeno':True, 'Deg-malig-3':False, 'Deg-malig-2':False, 'Deg-malig-1':True, 'Inv-nodes 0-2': True, 'Inv-nodes 3-5': False, 'Inv-nodes 6-8': False}    \n",
    "]\n"
   ],
   "id": "b58a275f4903ea75",
   "outputs": [],
   "execution_count": 344
  },
  {
   "metadata": {},
   "cell_type": "markdown",
   "source": "",
   "id": "7de320f8d3eeb945"
  },
  {
   "metadata": {},
   "cell_type": "markdown",
   "source": "",
   "id": "3aa59cb96fd060a4"
  },
  {
   "metadata": {},
   "cell_type": "markdown",
   "source": [
    "In essence, we have three conditions.\n",
    "And we then define a function called evaluate_condition.\n",
    "The observation parameter is the patients and the other parameters are the conditions we evaluate the patients with. \n",
    "We do a for loop where we iterate through all the patients and their features. \n",
    "\n",
    "So if a feature is in a condition and is not observed in the patient, its false\n",
    "So if a NOT feature is in a condition and(but) it is observed in the patient, its true\n"
   ],
   "id": "82f7340870031905"
  },
  {
   "metadata": {
    "ExecuteTime": {
     "end_time": "2024-09-17T19:20:18.008391Z",
     "start_time": "2024-09-17T19:20:18.004215Z"
    }
   },
   "cell_type": "code",
   "source": [
    "\n",
    "\n",
    "R1_condition = ['Deg-malig-3', 'NOT it40']\n",
    "R2_condition = ['Deg-malig-3', 'NOT it40']\n",
    "R3_condition = ['Inv-nodes 0-2']\n",
    "\n",
    "\n",
    "conditions = [R1_condition, R2_condition, R3_condition]\n",
    "\n",
    "def evaluate_condition(observation, conditions):\n",
    "    truth_value_of_condition = True\n",
    "    for condition in conditions:\n",
    "        for feature in observation:\n",
    "            if feature in condition and observation[feature] == False:\n",
    "                truth_value_of_condition = False\n",
    "                break\n",
    "            if 'NOT ' + feature in condition and observation[feature] == True:\n",
    "                truth_value_of_condition = False\n",
    "                break \n",
    "        return truth_value_of_condition\n",
    "    return truth_value_of_condition\n",
    "\n",
    "\n",
    "\n",
    "for j in patient:\n",
    "    print(evaluate_condition(j, conditions))\n",
    " \n",
    "'''   \n",
    "def evaluate_condition(observation, R3_condition):\n",
    "    truth_value_of_condition = True\n",
    "    for feature in observation:\n",
    "        if feature in R3_condition and observation[feature] == False:\n",
    "            truth_value_of_condition = False\n",
    "            break\n",
    "        if 'NOT ' + feature in R3_condition and observation[feature] == True:\n",
    "            truth_value_of_condition = False\n",
    "            break \n",
    "    return truth_value_of_condition\n",
    "'''   \n",
    "\n"
   ],
   "id": "fbc121e30a2defb3",
   "outputs": [],
   "execution_count": 345
  },
  {
   "metadata": {
    "ExecuteTime": {
     "end_time": "2024-09-17T19:20:18.041500Z",
     "start_time": "2024-09-17T19:20:18.036364Z"
    }
   },
   "cell_type": "code",
   "source": [
    "from random import random\n",
    "\n",
    "\n",
    "class Memory:\n",
    "    def __init__(self, forget_value, memorize_value, memory):\n",
    "        self.memory = memory\n",
    "        self.forget_value = forget_value\n",
    "        self.memorize_value = memorize_value\n",
    "    \n",
    "    def get_memory(self):\n",
    "        return self.memory\n",
    "    \n",
    "    def get_literals(self):\n",
    "        return list(self.memory.keys())\n",
    "    \n",
    "    def get_condition(self):\n",
    "        condition = []\n",
    "        for literal in self.memory:\n",
    "            if self.memory[literal] >= 6:\n",
    "                condition.append(literal)\n",
    "        return condition\n",
    "        \n",
    "    def memorize(self, literal):\n",
    "        if random() <= self.memorize_value and self.memory[literal] < 10:\n",
    "            self.memory[literal] += 1\n",
    "            \n",
    "    def forget(self, literal):\n",
    "        if random() <= self.forget_value and self.memory[literal] > 1:\n",
    "            self.memory[literal] -= 1\n",
    "            \n",
    "    def memorize_always(self, literal):\n",
    "        if  self.memory[literal] < 10:\n",
    "            self.memory[literal] += 1"
   ],
   "id": "dcfa47b6626b59c8",
   "outputs": [],
   "execution_count": 346
  },
  {
   "metadata": {
    "ExecuteTime": {
     "end_time": "2024-09-17T19:20:18.047570Z",
     "start_time": "2024-09-17T19:20:18.045516Z"
    }
   },
   "cell_type": "code",
   "source": "",
   "id": "3cb93401bd5aa1a1",
   "outputs": [],
   "execution_count": null
  },
  {
   "metadata": {},
   "cell_type": "markdown",
   "source": [
    "We create a memory for the rules/conditions. We set a forget_value(0,9 in this case) and a memorize value(0,1 in this case). \n",
    "And finally we add the literals and their starting memory positions. "
   ],
   "id": "c9f3087b9b999b09"
  },
  {
   "metadata": {
    "ExecuteTime": {
     "end_time": "2024-09-17T19:20:18.058372Z",
     "start_time": "2024-09-17T19:20:18.054245Z"
    }
   },
   "cell_type": "code",
   "source": [
    "patient_rule = Memory(0.5, 0.5, {'Deg-malig-3':5, 'NOT Deg-malig-3':5, 'Deg-malig-2':5, 'NOT Deg-malig-2':5, 'Deg-malig-1':5, 'NOT Deg-malig-1':5, 'premeno':5, 'NOT premeno':5, 'it40':5, 'NOT it40':5 , 'ge40':5 , 'NOT ge40':5 , 'Inv-nodes 0-2':5 , 'NOT Inv-nodes 0-2':5 , 'Inv-nodes 3-5':5 , 'NOT Inv-nodes 3-5':5, 'Inv-nodes 6-8':5 , 'NOT Inv-nodes 6-8':5 })\n",
    "                      \n",
    "\n",
    "patient_rule.get_condition()\n"
   ],
   "id": "ffd3482376bc9c56",
   "outputs": [
    {
     "data": {
      "text/plain": [
       "[]"
      ]
     },
     "execution_count": 347,
     "metadata": {},
     "output_type": "execute_result"
    }
   ],
   "execution_count": 347
  },
  {
   "metadata": {
    "ExecuteTime": {
     "end_time": "2024-09-17T19:20:18.081051Z",
     "start_time": "2024-09-17T19:20:18.078577Z"
    }
   },
   "cell_type": "code",
   "source": "",
   "id": "738de9e41e368f74",
   "outputs": [],
   "execution_count": null
  },
  {
   "metadata": {},
   "cell_type": "markdown",
   "source": "",
   "id": "5c64b01d39cc3293"
  },
  {
   "metadata": {
    "ExecuteTime": {
     "end_time": "2024-09-17T19:20:18.093142Z",
     "start_time": "2024-09-17T19:20:18.088790Z"
    }
   },
   "cell_type": "code",
   "source": [
    "def type_i_feedback(observation, memory):\n",
    "    remaining_literals = memory.get_literals()\n",
    "    if evaluate_condition(observation, memory.get_condition()) == True:\n",
    "        for feature in observation:\n",
    "            if observation[feature] == True:\n",
    "                memory.memorize(feature)\n",
    "                remaining_literals.remove(feature)\n",
    "            elif observation[feature] == False:\n",
    "                memory.memorize('NOT ' + feature)\n",
    "                remaining_literals.remove('NOT ' + feature)\n",
    "    for literal in remaining_literals:\n",
    "        memory.forget(literal)\n",
    "        \n",
    "        "
   ],
   "id": "36829a5ae42aabe",
   "outputs": [],
   "execution_count": 348
  },
  {
   "metadata": {
    "ExecuteTime": {
     "end_time": "2024-09-17T19:20:18.109851Z",
     "start_time": "2024-09-17T19:20:18.104722Z"
    }
   },
   "cell_type": "code",
   "source": [
    "\n",
    "from random import choice\n",
    "\n",
    "for i in range(100):\n",
    "    observation_id = choice([0,1,2])\n",
    "    type_i_feedback(patient[observation_id], patient_rule)\n",
    "\n",
    "\n",
    "print(patient_rule.get_memory())\n",
    "\n",
    "print(\"IF \" + \" AND \".join(patient_rule.get_condition()) + \" THEN recurrence\")\n"
   ],
   "id": "d9fd8a2fc5a4f398",
   "outputs": [
    {
     "name": "stdout",
     "output_type": "stream",
     "text": [
      "{'Deg-malig-3': 10, 'NOT Deg-malig-3': 1, 'Deg-malig-2': 1, 'NOT Deg-malig-2': 10, 'Deg-malig-1': 1, 'NOT Deg-malig-1': 10, 'premeno': 1, 'NOT premeno': 8, 'it40': 3, 'NOT it40': 2, 'ge40': 2, 'NOT ge40': 5, 'Inv-nodes 0-2': 5, 'NOT Inv-nodes 0-2': 2, 'Inv-nodes 3-5': 1, 'NOT Inv-nodes 3-5': 1, 'Inv-nodes 6-8': 1, 'NOT Inv-nodes 6-8': 10}\n",
      "IF Deg-malig-3 AND NOT Deg-malig-2 AND NOT Deg-malig-1 AND NOT premeno AND NOT Inv-nodes 6-8 THEN recurrence\n"
     ]
    }
   ],
   "execution_count": 349
  }
 ],
 "metadata": {
  "kernelspec": {
   "display_name": "Python 3",
   "language": "python",
   "name": "python3"
  },
  "language_info": {
   "codemirror_mode": {
    "name": "ipython",
    "version": 2
   },
   "file_extension": ".py",
   "mimetype": "text/x-python",
   "name": "python",
   "nbconvert_exporter": "python",
   "pygments_lexer": "ipython2",
   "version": "2.7.6"
  }
 },
 "nbformat": 4,
 "nbformat_minor": 5
}
