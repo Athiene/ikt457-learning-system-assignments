{
 "cells": [
  {
   "metadata": {},
   "cell_type": "markdown",
   "source": [
    "# This is a sample Jupyter Notebook\n",
    "\n",
    "Below is an example of a code cell. \n",
    "Put your cursor into the cell and press Shift+Enter to execute it and select the next one, or click 'Run Cell' button.\n",
    "\n",
    "Press Double Shift to search everywhere for classes, files, tool windows, actions, and settings.\n",
    "\n",
    "To learn more about Jupyter Notebooks in PyCharm, see [help](https://www.jetbrains.com/help/pycharm/ipython-notebook-support.html).\n",
    "For an overview of PyCharm, go to Help -> Learn IDE features or refer to [our documentation](https://www.jetbrains.com/help/pycharm/getting-started.html)."
   ],
   "id": "8a77807f92f26ee"
  },
  {
   "metadata": {},
   "cell_type": "markdown",
   "source": "",
   "id": "b2de11468f07a350"
  },
  {
   "metadata": {},
   "cell_type": "markdown",
   "source": "Here we initialize the dataset for the recurrence and non-recurrence patients. ",
   "id": "99803602d7762e9a"
  },
  {
   "metadata": {
    "ExecuteTime": {
     "end_time": "2024-09-18T14:42:09.633173Z",
     "start_time": "2024-09-18T14:42:09.627719Z"
    }
   },
   "cell_type": "code",
   "source": [
    "\n",
    "\n",
    "'''\n",
    "patient = [\n",
    "    {'ge40':True, 'it40':False, 'premeno':False, 'Deg-malig-3':True, 'Deg-malig-2':False, 'Deg-malig-1':False, 'Inv-nodes 0-2': False, 'Inv-nodes 3-5': True, 'Inv-nodes 6-8': False},\n",
    "    {'ge40':False, 'it40':True, 'premeno':False, 'Deg-malig-3':True, 'Deg-malig-2':False, 'Deg-malig-1':False, 'Inv-nodes 0-2': True, 'Inv-nodes 3-5': False, 'Inv-nodes 6-8': False},\n",
    "    {'ge40':True, 'it40':False, 'premeno':False, 'Deg-malig-3':True, 'Deg-malig-2':False, 'Deg-malig-1':False, 'Inv-nodes 0-2': False, 'Inv-nodes 3-5': False, 'Inv-nodes 6-8': True},\n",
    "    {'ge40':True, 'it40':False, 'premeno':False, 'Deg-malig-3': False, 'Deg-malig-2':True, 'Deg-malig-1':False, 'Inv-nodes 0-2': True, 'Inv-nodes 3-5': False, 'Inv-nodes 6-8': False},\n",
    "    {'ge40':False, 'it40':False, 'premeno':True, 'Deg-malig-3': True, 'Deg-malig-2':False, 'Deg-malig-1':False, 'Inv-nodes 0-2': True, 'Inv-nodes 3-5': False, 'Inv-nodes 6-8': False},\n",
    "    {'ge40':False, 'it40':False, 'premeno':True, 'Deg-malig-3':False, 'Deg-malig-2':False, 'Deg-malig-1':True, 'Inv-nodes 0-2': True, 'Inv-nodes 3-5': False, 'Inv-nodes 6-8': False}    \n",
    "]\n",
    "'''\n",
    "\n",
    "patient = [\n",
    "    {'ge40':True, 'it40':False, 'premeno':False, 'Deg-malig-3':True, 'Deg-malig-2':False, 'Deg-malig-1':False, 'Inv-nodes 0-2': False, 'Inv-nodes 3-5': True, 'Inv-nodes 6-8': False},\n",
    "    {'ge40':True, 'it40':False, 'premeno':False, 'Deg-malig-3':True, 'Deg-malig-2':False, 'Deg-malig-1':False, 'Inv-nodes 0-2': False, 'Inv-nodes 3-5': False, 'Inv-nodes 6-8': True},\n",
    "    {'ge40':False, 'it40':False, 'premeno':True, 'Deg-malig-3': True, 'Deg-malig-2':False, 'Deg-malig-1':False, 'Inv-nodes 0-2': True, 'Inv-nodes 3-5': False, 'Inv-nodes 6-8': False},\n",
    "]\n",
    "\n",
    "\n",
    "non_recurrence_patient = [\n",
    "    {'ge40':False, 'it40':True, 'premeno':False, 'Deg-malig-3':True, 'Deg-malig-2':False, 'Deg-malig-1':False, 'Inv-nodes 0-2': True, 'Inv-nodes 3-5': False, 'Inv-nodes 6-8': False},   \n",
    "    {'ge40':True, 'it40':False, 'premeno':False, 'Deg-malig-3': False, 'Deg-malig-2':True, 'Deg-malig-1':False, 'Inv-nodes 0-2': True, 'Inv-nodes 3-5': False, 'Inv-nodes 6-8': False},\n",
    "    {'ge40':False, 'it40':False, 'premeno':True, 'Deg-malig-3':False, 'Deg-malig-2':False, 'Deg-malig-1':True, 'Inv-nodes 0-2': True, 'Inv-nodes 3-5': False, 'Inv-nodes 6-8': False}      \n",
    "]\n",
    "\n"
   ],
   "id": "b22ce238e4fe1085",
   "outputs": [],
   "execution_count": 1193
  },
  {
   "metadata": {},
   "cell_type": "markdown",
   "source": "",
   "id": "7de320f8d3eeb945"
  },
  {
   "metadata": {},
   "cell_type": "markdown",
   "source": "",
   "id": "3aa59cb96fd060a4"
  },
  {
   "metadata": {},
   "cell_type": "markdown",
   "source": [
    "In essence, we have three conditions.\n",
    "And we then define a function called evaluate_condition.\n",
    "The observation parameter is the patients and the other parameters are the conditions we evaluate the patients with. \n",
    "We do a for loop where we iterate through all the patients and their features. \n",
    "\n",
    "So if a feature is in a condition and is not observed in the patient, its false\n",
    "So if a NOT feature is in a condition and(but) it is observed in the patient, its true\n",
    "\n",
    "In the end we do a for loop going through both datasets with the function evaluate_conditon.\n",
    " By doing this, we are able to doublecheck if the the dataset provided are correct and that the evaluate_conditon function is working properly.\n"
   ],
   "id": "82f7340870031905"
  },
  {
   "metadata": {
    "ExecuteTime": {
     "end_time": "2024-09-18T14:42:09.652675Z",
     "start_time": "2024-09-18T14:42:09.646883Z"
    }
   },
   "cell_type": "code",
   "source": [
    "\n",
    "\n",
    "R1_condition = ['Deg-malig-3', 'NOT it40']\n",
    "R2_condition = ['Deg-malig-3', 'NOT it40']\n",
    "R3_condition = ['Inv-nodes 0-2']\n",
    "\n",
    "\n",
    "conditions = [R1_condition, R2_condition, R3_condition]\n",
    "\n",
    "def evaluate_condition(observation, conditions):\n",
    "    truth_value_of_condition = True\n",
    "    for condition in conditions:\n",
    "        for feature in observation:\n",
    "            if feature in condition and observation[feature] == False:\n",
    "                truth_value_of_condition = False\n",
    "                break\n",
    "            if 'NOT ' + feature in condition and observation[feature] == True:\n",
    "                truth_value_of_condition = False\n",
    "                break \n",
    "        return truth_value_of_condition\n",
    "    return truth_value_of_condition\n",
    "\n",
    "\n",
    "\n",
    "for j in patient:\n",
    "    print(evaluate_condition(j, conditions))\n",
    " \n",
    " \n",
    "for c in non_recurrence_patient:\n",
    "    print(evaluate_condition(c, conditions)) \n",
    "    \n",
    " \n",
    "'''\n",
    "def evaluate_condition(observation, R3_condition):\n",
    "    truth_value_of_condition = True\n",
    "    for feature in observation:\n",
    "        if feature in R3_condition and observation[feature] == False:\n",
    "            truth_value_of_condition = False\n",
    "            break\n",
    "        if 'NOT ' + feature in R3_condition and observation[feature] == True:\n",
    "            truth_value_of_condition = False\n",
    "            break \n",
    "    return truth_value_of_condition\n",
    "'''\n",
    "\n",
    "\n"
   ],
   "id": "fbc121e30a2defb3",
   "outputs": [
    {
     "name": "stdout",
     "output_type": "stream",
     "text": [
      "True\n",
      "True\n",
      "True\n",
      "False\n",
      "False\n",
      "False\n"
     ]
    },
    {
     "data": {
      "text/plain": [
       "\"\\ndef evaluate_condition(observation, R3_condition):\\n    truth_value_of_condition = True\\n    for feature in observation:\\n        if feature in R3_condition and observation[feature] == False:\\n            truth_value_of_condition = False\\n            break\\n        if 'NOT ' + feature in R3_condition and observation[feature] == True:\\n            truth_value_of_condition = False\\n            break \\n    return truth_value_of_condition\\n\""
      ]
     },
     "execution_count": 1194,
     "metadata": {},
     "output_type": "execute_result"
    }
   ],
   "execution_count": 1194
  },
  {
   "metadata": {},
   "cell_type": "markdown",
   "source": [
    "This is the memory for the rules. \n",
    "It consists of the initialization of the memory.\n",
    "It consists functions for the memory such as memorize and forgetting. \n"
   ],
   "id": "2471a5c452b3918e"
  },
  {
   "metadata": {
    "ExecuteTime": {
     "end_time": "2024-09-18T14:42:09.683175Z",
     "start_time": "2024-09-18T14:42:09.678367Z"
    }
   },
   "cell_type": "code",
   "source": [
    "from random import random\n",
    "\n",
    "\n",
    "class Memory:\n",
    "    def __init__(self, forget_value, memorize_value, memory):\n",
    "        self.memory = memory\n",
    "        self.forget_value = forget_value\n",
    "        self.memorize_value = memorize_value\n",
    "    \n",
    "    def get_memory(self):\n",
    "        return self.memory\n",
    "    \n",
    "    def get_literals(self):\n",
    "        return list(self.memory.keys())\n",
    "    \n",
    "    def get_condition(self):\n",
    "        condition = []\n",
    "        for literal in self.memory:\n",
    "            if self.memory[literal] >= 6:\n",
    "                condition.append(literal)\n",
    "        return condition\n",
    "        \n",
    "    def memorize(self, literal):\n",
    "        if random() <= self.memorize_value and self.memory[literal] < 10:\n",
    "            self.memory[literal] += 1\n",
    "            \n",
    "    def forget(self, literal):\n",
    "        if random() <= self.forget_value and self.memory[literal] > 1:\n",
    "            self.memory[literal] -= 1\n",
    "            \n",
    "    def memorize_always(self, literal):\n",
    "        if  self.memory[literal] < 10:\n",
    "            self.memory[literal] += 1\n"
   ],
   "id": "3cb93401bd5aa1a1",
   "outputs": [],
   "execution_count": 1195
  },
  {
   "metadata": {},
   "cell_type": "markdown",
   "source": [
    "We create a memory for the rules/conditions. We set a forget_value(0,8 in this case) and a memorize value(0,2 in this case). \n",
    "And finally we add the literals and their starting memory positions. "
   ],
   "id": "c9f3087b9b999b09"
  },
  {
   "metadata": {
    "ExecuteTime": {
     "end_time": "2024-09-18T14:42:09.695553Z",
     "start_time": "2024-09-18T14:42:09.691429Z"
    }
   },
   "cell_type": "code",
   "source": [
    "patient_rule = Memory(0.8, 0.2, {'Deg-malig-3':5, 'NOT Deg-malig-3':5, 'Deg-malig-2':5, 'NOT Deg-malig-2':5, 'Deg-malig-1':5, 'NOT Deg-malig-1':5, 'premeno':5, 'NOT premeno':5, 'it40':5, 'NOT it40':5 , 'ge40':5 , 'NOT ge40':5 , 'Inv-nodes 0-2':5 , 'NOT Inv-nodes 0-2':5 , 'Inv-nodes 3-5':5 , 'NOT Inv-nodes 3-5':5, 'Inv-nodes 6-8':5 , 'NOT Inv-nodes 6-8':5 })\n",
    "\n",
    "non_recurrence_patient_rule = Memory(0.8, 0.2, {'Deg-malig-3':5, 'NOT Deg-malig-3':5, 'Deg-malig-2':5, 'NOT Deg-malig-2':5, 'Deg-malig-1':5, 'NOT Deg-malig-1':5, 'premeno':5, 'NOT premeno':5, 'it40':5, 'NOT it40':5 , 'ge40':5 , 'NOT ge40':5 , 'Inv-nodes 0-2':5 , 'NOT Inv-nodes 0-2':5 , 'Inv-nodes 3-5':5 , 'NOT Inv-nodes 3-5':5, 'Inv-nodes 6-8':5 , 'NOT Inv-nodes 6-8':5 })\n"
   ],
   "id": "738de9e41e368f74",
   "outputs": [],
   "execution_count": 1196
  },
  {
   "metadata": {},
   "cell_type": "markdown",
   "source": "",
   "id": "5c64b01d39cc3293"
  },
  {
   "metadata": {
    "ExecuteTime": {
     "end_time": "2024-09-18T14:42:09.716651Z",
     "start_time": "2024-09-18T14:42:09.712555Z"
    }
   },
   "cell_type": "code",
   "source": [
    "def type_i_feedback(observation, memory):\n",
    "    remaining_literals = memory.get_literals()\n",
    "    if evaluate_condition(observation, memory.get_condition()) == True:\n",
    "        for feature in observation:\n",
    "            if observation[feature] == True:\n",
    "                memory.memorize(feature)\n",
    "                remaining_literals.remove(feature)\n",
    "            elif observation[feature] == False:\n",
    "                memory.memorize('NOT ' + feature)\n",
    "                remaining_literals.remove('NOT ' + feature)\n",
    "    for literal in remaining_literals:\n",
    "        memory.forget(literal)\n",
    "        \n",
    "def type_ii_feedback(observation, memory):\n",
    "    if evaluate_condition(observation, memory.get_condition()):\n",
    "        for feature in observation:\n",
    "            if not observation[feature]:\n",
    "                memory.memorize_always(feature)\n",
    "            elif observation[feature]:\n",
    "                memory.memorize_always('NOT ' + feature)\n"
   ],
   "id": "d3083eb46a7b9f21",
   "outputs": [],
   "execution_count": 1197
  },
  {
   "metadata": {},
   "cell_type": "markdown",
   "source": "Learning rules for recurrence(with forget: 0,8 and memorize 0,2)\n",
   "id": "6db8391e0659d85e"
  },
  {
   "metadata": {
    "ExecuteTime": {
     "end_time": "2024-09-18T14:42:09.829963Z",
     "start_time": "2024-09-18T14:42:09.756761Z"
    }
   },
   "cell_type": "code",
   "source": [
    "\n",
    "from random import choice\n",
    "\n",
    "for i in range(10000):\n",
    "    observation_id = choice([0,1,2])\n",
    "    patient_choice = choice([0,1])\n",
    "    if patient_choice == 1:\n",
    "        type_i_feedback(patient[observation_id], patient_rule)\n",
    "    else:\n",
    "        type_ii_feedback(non_recurrence_patient[observation_id], patient_rule)\n",
    "\n",
    "\n",
    "\n",
    "print(\"\\n Memory for recurrence patient:\")\n",
    "print(patient_rule.get_memory())\n",
    "\n",
    "print(\"\\n####################################################################\\n\")\n",
    "\n",
    "print(\"\\n Conditions for recurrence patient:\")\n",
    "print(patient_rule.get_condition())\n",
    "\n"
   ],
   "id": "d9fd8a2fc5a4f398",
   "outputs": [
    {
     "name": "stdout",
     "output_type": "stream",
     "text": [
      "\n",
      " Memory for recurrence patient:\n",
      "{'Deg-malig-3': 10, 'NOT Deg-malig-3': 3, 'Deg-malig-2': 5, 'NOT Deg-malig-2': 10, 'Deg-malig-1': 3, 'NOT Deg-malig-1': 10, 'premeno': 6, 'NOT premeno': 1, 'it40': 1, 'NOT it40': 10, 'ge40': 10, 'NOT ge40': 1, 'Inv-nodes 0-2': 1, 'NOT Inv-nodes 0-2': 10, 'Inv-nodes 3-5': 8, 'NOT Inv-nodes 3-5': 5, 'Inv-nodes 6-8': 7, 'NOT Inv-nodes 6-8': 2}\n",
      "\n",
      "####################################################################\n",
      "\n",
      "\n",
      " Conditions for recurrence patient:\n",
      "['Deg-malig-3', 'NOT Deg-malig-2', 'NOT Deg-malig-1', 'premeno', 'NOT it40', 'ge40', 'NOT Inv-nodes 0-2', 'Inv-nodes 3-5', 'Inv-nodes 6-8']\n"
     ]
    }
   ],
   "execution_count": 1198
  },
  {
   "metadata": {},
   "cell_type": "markdown",
   "source": "### Learning NON-recurrence rule with forget_value: 0.8 and memorize_value: 0.2\n",
   "id": "e854e36b74e10dd6"
  },
  {
   "metadata": {
    "ExecuteTime": {
     "end_time": "2024-09-18T14:42:09.906284Z",
     "start_time": "2024-09-18T14:42:09.832975Z"
    }
   },
   "cell_type": "code",
   "source": [
    "\n",
    "from random import choice\n",
    "\n",
    "for i in range(10000):\n",
    "    observation_id = choice([0,1,2])\n",
    "    patient_choice = choice([0,1])\n",
    "    if patient_choice == 1:\n",
    "        type_i_feedback(non_recurrence_patient[observation_id], non_recurrence_patient_rule)\n",
    "    else:\n",
    "        type_ii_feedback(patient[observation_id], non_recurrence_patient_rule)\n",
    "\n",
    "\n",
    "\n",
    "print(\"\\n Memory for non-recurrence patient:\")\n",
    "print(non_recurrence_patient_rule.get_memory())\n",
    "\n",
    "print(\"\\n\\n####################################################################\\n\\n\")\n",
    "\n",
    "print(non_recurrence_patient_rule.get_condition())\n"
   ],
   "id": "2db6547b11da0aa0",
   "outputs": [
    {
     "name": "stdout",
     "output_type": "stream",
     "text": [
      "\n",
      " Memory for non-recurrence patient:\n",
      "{'Deg-malig-3': 1, 'NOT Deg-malig-3': 5, 'Deg-malig-2': 1, 'NOT Deg-malig-2': 1, 'Deg-malig-1': 1, 'NOT Deg-malig-1': 1, 'premeno': 1, 'NOT premeno': 1, 'it40': 2, 'NOT it40': 1, 'ge40': 2, 'NOT ge40': 1, 'Inv-nodes 0-2': 2, 'NOT Inv-nodes 0-2': 1, 'Inv-nodes 3-5': 3, 'NOT Inv-nodes 3-5': 1, 'Inv-nodes 6-8': 1, 'NOT Inv-nodes 6-8': 1}\n",
      "\n",
      "\n",
      "####################################################################\n",
      "\n",
      "\n",
      "[]\n"
     ]
    }
   ],
   "execution_count": 1199
  },
  {
   "metadata": {
    "ExecuteTime": {
     "end_time": "2024-09-18T14:42:09.919623Z",
     "start_time": "2024-09-18T14:42:09.914546Z"
    }
   },
   "cell_type": "code",
   "source": [
    "def classify(observation, patient_rules, non_recurrence_patient_rules):\n",
    "    vote_sum = 0\n",
    "    for patient_rule in patient_rules:\n",
    "        if evaluate_condition(observation, patient_rule.get_condition()):\n",
    "            vote_sum += 1\n",
    "    for non_recurrence_patient_rule in non_recurrence_patient_rules:\n",
    "        if evaluate_condition(observation, non_recurrence_patient_rule.get_condition()):\n",
    "            vote_sum -= 1\n",
    "    if vote_sum >= 0:\n",
    "        print(\"Recurrence patient\")\n",
    "        return \"Recurrence patient\"\n",
    "    else:\n",
    "        print(\"Non-recurrence patient\")\n",
    "        return \"Non-recurrence patient\"\n",
    "\n",
    "\n",
    "for j in patient:\n",
    "    classify(j, [patient_rule], [non_recurrence_patient_rule])\n",
    "\n",
    "for i in non_recurrence_patient:\n",
    "    classify(i, [patient_rule], [non_recurrence_patient_rule])"
   ],
   "id": "bf115ce45ef81f4e",
   "outputs": [
    {
     "name": "stdout",
     "output_type": "stream",
     "text": [
      "Recurrence patient\n",
      "Recurrence patient\n",
      "Recurrence patient\n",
      "Recurrence patient\n",
      "Non-recurrence patient\n",
      "Non-recurrence patient\n"
     ]
    }
   ],
   "execution_count": 1200
  }
 ],
 "metadata": {
  "kernelspec": {
   "display_name": "Python 3",
   "language": "python",
   "name": "python3"
  },
  "language_info": {
   "codemirror_mode": {
    "name": "ipython",
    "version": 2
   },
   "file_extension": ".py",
   "mimetype": "text/x-python",
   "name": "python",
   "nbconvert_exporter": "python",
   "pygments_lexer": "ipython2",
   "version": "2.7.6"
  }
 },
 "nbformat": 4,
 "nbformat_minor": 5
}
