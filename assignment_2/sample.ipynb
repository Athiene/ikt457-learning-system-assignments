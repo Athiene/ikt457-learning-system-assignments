{
 "cells": [
  {
   "metadata": {},
   "cell_type": "markdown",
   "source": "### Imports",
   "id": "c54def80bca24ce6"
  },
  {
   "metadata": {
    "ExecuteTime": {
     "end_time": "2024-09-17T19:56:22.729061Z",
     "start_time": "2024-09-17T19:56:22.726733Z"
    }
   },
   "cell_type": "code",
   "source": [
    "from random import choice\n",
    "from random import random"
   ],
   "id": "d54c510e3a87df2c",
   "outputs": [],
   "execution_count": 143
  },
  {
   "metadata": {},
   "cell_type": "markdown",
   "source": [
    "### Booleanization of multi-valued properties \n",
    "![Boolianzied](booleanizedTable.png)\n",
    "\n",
    "#### Advantages of Boolean features\n",
    "- **Boolean algebra** is the same as propositional logic, which models logical reasoning with True and False statements.\n",
    "- You can use **Boolean algebra** – the language of computers – to build patterns.\n",
    "- Boolean features fit well with a computer because you can store them individually as bits.\n"
   ],
   "id": "9817e8a4d19444f8"
  },
  {
   "metadata": {
    "ExecuteTime": {
     "end_time": "2024-09-17T19:56:22.742845Z",
     "start_time": "2024-09-17T19:56:22.739577Z"
    }
   },
   "cell_type": "code",
   "source": [
    "# Recurrent and non-recurrent patients\n",
    "patients = [\n",
    "    {'Menopause ge40': True, 'Inv-nodes 3-5': True, 'Deg-malign 3': True},\n",
    "    {'Menopause lt40': True, 'Inv-nodes 0-2': True, 'Deg-malign 3': True},\n",
    "    {'Menopause ge40': True, 'Inv-nodes 6-8': True, 'Deg-malign 3': True},\n",
    "    {'Menopause ge40': True, 'Inv-nodes 0-2': True, 'Deg-malign 2': True},\n",
    "    {'Menopause premeno': True, 'Inv-nodes 0-2': True, 'Deg-malign 3': True},\n",
    "    {'Menopause premeno':True , 'Inv-nodes 0-2': True, 'Deg-malign 1': True}\n",
    "]\n",
    "\n",
    "# Rule for recurrent patient - Not used for i and ii\n",
    "Rules = [{'Deg-malign 3', 'NOT Menopause lt40'},\n",
    "         {'Deg-malign 3'},\n",
    "         {'NOT Inv-nodes 0-2'}]\n",
    "\n"
   ],
   "id": "bca4014056d7baf5",
   "outputs": [],
   "execution_count": 144
  },
  {
   "metadata": {},
   "cell_type": "markdown",
   "source": [
    "### Memory system\n",
    "![rule_memory_example](rule_memory_example.png)\n",
    "\n",
    "#### Key points of a memory system\n",
    "- A way for the tsetlin machine to remember important features\n",
    "\n"
   ],
   "id": "2b0d2b98902bca93"
  },
  {
   "metadata": {
    "ExecuteTime": {
     "end_time": "2024-09-17T19:56:22.758699Z",
     "start_time": "2024-09-17T19:56:22.754571Z"
    }
   },
   "cell_type": "code",
   "source": [
    "class Memory:\n",
    "    def __init__(self, forget_value, memorize_value, memory):\n",
    "        self.memory = memory\n",
    "        self.forget_value = forget_value\n",
    "        self.memorize_value = memorize_value\n",
    "        self.memoryAmount = 20\n",
    "        self.memoryLine = (self.memoryAmount / 2) + 1\n",
    "\n",
    "    def get_memory(self):\n",
    "        return self.memory\n",
    "\n",
    "    def get_literals(self):\n",
    "        return list(self.memory.keys())\n",
    "\n",
    "    def get_condition(self):\n",
    "        condition = []\n",
    "        for literal in self.memory:\n",
    "            if self.memory[literal] >= self.memoryLine:\n",
    "                condition.append(literal)\n",
    "        return condition\n",
    "\n",
    "    def memorize(self, literal):\n",
    "        if random() <= self.memorize_value and self.memory[literal] < self.memoryAmount:\n",
    "            self.memory[literal] += 1\n",
    "\n",
    "    def forget(self, literal):\n",
    "        if random() <= self.forget_value and self.memory[literal] > 1:\n",
    "            self.memory[literal] -= 1\n",
    "\n",
    "    def memorize_always(self, literal):\n",
    "        if  self.memory[literal] < self.memoryAmount:\n",
    "            self.memory[literal] += 1"
   ],
   "id": "f35c591d36cbc6bb",
   "outputs": [],
   "execution_count": 145
  },
  {
   "metadata": {},
   "cell_type": "markdown",
   "source": [
    "### Type i and ii feedback\n",
    "\n",
    "#### Type i feedback\n",
    "The type_i_feedback() method produces frequent patterns with two learning steps:\n",
    "- Check if the condition part of the rule is True by assessing the object's literals. If the condition part is True, then memorize all the literals that are True for the object.\n",
    "- Forget all remaining literals.\n",
    "\n",
    "#### Type ii feedback\n",
    "The type_ii_feedback() method implements the third and final learning step:\n",
    "\n",
    "- Check if the condition part of the rule is True by assessing the object’s literals. If the condition part is True, then memorize all Forgotten literals that are False for the object. This time there is no randomization – the increment is always performed."
   ],
   "id": "33f61813499db1de"
  },
  {
   "metadata": {
    "ExecuteTime": {
     "end_time": "2024-09-17T19:56:22.770352Z",
     "start_time": "2024-09-17T19:56:22.766317Z"
    }
   },
   "cell_type": "code",
   "source": [
    "def evaluate_condition(observation, condition):\n",
    "    truth_value_of_condition = True\n",
    "    for feature in observation:\n",
    "        if feature in condition and observation[feature] == False:\n",
    "            truth_value_of_condition = False\n",
    "            break\n",
    "        if 'NOT ' + feature in condition and observation[feature] == True:\n",
    "            truth_value_of_condition = False\n",
    "            break\n",
    "    return truth_value_of_condition\n",
    "\n",
    "\n",
    "def type_i_feedback(observation, memory):\n",
    "    remaining_literals = memory.get_literals()\n",
    "    #print(remaining_literals)\n",
    "    if evaluate_condition(observation, memory.get_condition()):\n",
    "        for feature in observation:\n",
    "            #print('Feature: ' + feature)\n",
    "            if observation[feature]:\n",
    "                memory.memorize(feature)\n",
    "                remaining_literals.remove(feature)\n",
    "            elif not observation[feature]:\n",
    "                memory.memorize('NOT ' + feature)\n",
    "                remaining_literals.remove('NOT ' + feature)\n",
    "    for literal in remaining_literals:\n",
    "        #print('Remaining Literal:' + literal)\n",
    "        memory.forget(literal)\n",
    "        \n",
    "def type_ii_feedback(observation, memory):\n",
    "    if evaluate_condition(observation, memory.get_condition()):\n",
    "        for feature in observation:\n",
    "            if not observation[feature]:\n",
    "                memory.memorize_always(feature)\n",
    "            elif observation[feature]:\n",
    "                memory.memorize_always('NOT ' + feature)"
   ],
   "id": "d4e63abb84517955",
   "outputs": [],
   "execution_count": 146
  },
  {
   "metadata": {},
   "cell_type": "markdown",
   "source": [
    "### Generating features\n",
    "\n",
    "This function creates the different features the patients can have including 'NOT' features. This will then be used for the creating of Recurrence and NonRecurrence Rules"
   ],
   "id": "ca7f2e09e0d7545b"
  },
  {
   "metadata": {
    "ExecuteTime": {
     "end_time": "2024-09-17T19:56:22.781936Z",
     "start_time": "2024-09-17T19:56:22.776592Z"
    }
   },
   "cell_type": "code",
   "source": [
    "def GenerateRules():\n",
    "    StartingMemory = 10\n",
    "    RecurrenceConditions = {}\n",
    "    \n",
    "    # Design-malign rules\n",
    "    for i in range(3):\n",
    "        RecurrenceConditions[f'Deg-malign {str(i+1)}'] = StartingMemory\n",
    "    for i in range(3):\n",
    "        RecurrenceConditions[f'NOT Deg-malign {str(i+1)}'] = StartingMemory\n",
    "\n",
    "    # Menopause\n",
    "    Menopause = ['ge40', 'lt40', 'premeno']\n",
    "    for menop in Menopause:\n",
    "        RecurrenceConditions[f'Menopause {menop}'] = StartingMemory\n",
    "    for menop in Menopause:\n",
    "        RecurrenceConditions[f'NOT Menopause {menop}'] = StartingMemory\n",
    "\n",
    "    # Inv-nodes\n",
    "    InvNodes = ['0-2', '3-5', '6-8']\n",
    "    for invnode in InvNodes:\n",
    "        RecurrenceConditions[f'Inv-nodes {invnode}'] = StartingMemory\n",
    "    for invnode in InvNodes:\n",
    "        RecurrenceConditions[f'NOT Inv-nodes {invnode}'] = StartingMemory\n",
    "    \n",
    "    return RecurrenceConditions\n",
    "\n",
    "GenerateRules()"
   ],
   "id": "d6ae241077ffff45",
   "outputs": [
    {
     "data": {
      "text/plain": [
       "{'Deg-malign 1': 10,\n",
       " 'Deg-malign 2': 10,\n",
       " 'Deg-malign 3': 10,\n",
       " 'NOT Deg-malign 1': 10,\n",
       " 'NOT Deg-malign 2': 10,\n",
       " 'NOT Deg-malign 3': 10,\n",
       " 'Menopause ge40': 10,\n",
       " 'Menopause lt40': 10,\n",
       " 'Menopause premeno': 10,\n",
       " 'NOT Menopause ge40': 10,\n",
       " 'NOT Menopause lt40': 10,\n",
       " 'NOT Menopause premeno': 10,\n",
       " 'Inv-nodes 0-2': 10,\n",
       " 'Inv-nodes 3-5': 10,\n",
       " 'Inv-nodes 6-8': 10,\n",
       " 'NOT Inv-nodes 0-2': 10,\n",
       " 'NOT Inv-nodes 3-5': 10,\n",
       " 'NOT Inv-nodes 6-8': 10}"
      ]
     },
     "execution_count": 147,
     "metadata": {},
     "output_type": "execute_result"
    }
   ],
   "execution_count": 147
  },
  {
   "metadata": {},
   "cell_type": "markdown",
   "source": "### Classifying the patients and separating them to recurrent and non-recurrent groups",
   "id": "a7bbe719fc4fea7f"
  },
  {
   "metadata": {
    "ExecuteTime": {
     "end_time": "2024-09-17T19:56:22.799583Z",
     "start_time": "2024-09-17T19:56:22.795764Z"
    }
   },
   "cell_type": "code",
   "source": [
    "ReccurentPatients = []\n",
    "NonReccurentPatients = []\n",
    "\n",
    "def ManuallyClassify(observation, rules):\n",
    "    votes = 0\n",
    "    for feature in observation:\n",
    "        for rule in rules:\n",
    "            if feature in rule and observation[feature] == True:\n",
    "                votes += 1\n",
    "            if 'NOT ' + feature in rule and observation[feature] == True:\n",
    "                votes -= 1\n",
    "    if votes > 0:\n",
    "        ReccurentPatients.append(observation)\n",
    "        return \"Recurrence\"\n",
    "    if votes <= 0:\n",
    "        NonReccurentPatients.append(observation)\n",
    "        return \"Non-Recurrence\"\n",
    "\n",
    "for patient in patients:\n",
    "    print(ManuallyClassify(patient, Rules))\n",
    "\n",
    "print('##############################   RECURRENT PATIENTS    ############################################')    \n",
    "print(ReccurentPatients)\n",
    "print('#############################   NON-RECURRENT PATIENTS   ##########################################')    \n",
    "print(NonReccurentPatients)"
   ],
   "id": "d9c4ac04adb610b7",
   "outputs": [
    {
     "name": "stdout",
     "output_type": "stream",
     "text": [
      "Recurrence\n",
      "Non-Recurrence\n",
      "Recurrence\n",
      "Non-Recurrence\n",
      "Recurrence\n",
      "Non-Recurrence\n",
      "##############################   RECURRENT PATIENTS    ############################################\n",
      "[{'Menopause ge40': True, 'Inv-nodes 3-5': True, 'Deg-malign 3': True}, {'Menopause ge40': True, 'Inv-nodes 6-8': True, 'Deg-malign 3': True}, {'Menopause premeno': True, 'Inv-nodes 0-2': True, 'Deg-malign 3': True}]\n",
      "#############################   NON-RECURRENT PATIENTS   ##########################################\n",
      "[{'Menopause lt40': True, 'Inv-nodes 0-2': True, 'Deg-malign 3': True}, {'Menopause ge40': True, 'Inv-nodes 0-2': True, 'Deg-malign 2': True}, {'Menopause premeno': True, 'Inv-nodes 0-2': True, 'Deg-malign 1': True}]\n"
     ]
    }
   ],
   "execution_count": 148
  },
  {
   "metadata": {},
   "cell_type": "markdown",
   "source": "### Learning recurrence rule (forget: 0.8, memorize: 0.2)",
   "id": "aed4d30c60111d30"
  },
  {
   "metadata": {
    "ExecuteTime": {
     "end_time": "2024-09-17T19:56:22.873678Z",
     "start_time": "2024-09-17T19:56:22.836415Z"
    }
   },
   "cell_type": "code",
   "source": [
    "RecurrenceRule = Memory(0.8,0.2,GenerateRules())\n",
    "for i in range(10000):\n",
    "    observation_id = choice(range(3))\n",
    "    patient = choice([0,1])\n",
    "    if patient == 1:\n",
    "        type_i_feedback(ReccurentPatients[observation_id], RecurrenceRule)\n",
    "    else:\n",
    "        type_ii_feedback(NonReccurentPatients[observation_id], RecurrenceRule)\n",
    "\n",
    "print('#############################   GET MEMORY   ##########################################')     \n",
    "print(RecurrenceRule.get_memory())\n",
    "print('############################  GET CONDITION  ##########################################')\n",
    "print(RecurrenceRule.get_condition())"
   ],
   "id": "2c1622c946354c4f",
   "outputs": [
    {
     "name": "stdout",
     "output_type": "stream",
     "text": [
      "#############################   GET MEMORY   ##########################################\n",
      "{'Deg-malign 1': 1, 'Deg-malign 2': 1, 'Deg-malign 3': 20, 'NOT Deg-malign 1': 2, 'NOT Deg-malign 2': 1, 'NOT Deg-malign 3': 1, 'Menopause ge40': 1, 'Menopause lt40': 1, 'Menopause premeno': 1, 'NOT Menopause ge40': 1, 'NOT Menopause lt40': 1, 'NOT Menopause premeno': 2, 'Inv-nodes 0-2': 1, 'Inv-nodes 3-5': 1, 'Inv-nodes 6-8': 1, 'NOT Inv-nodes 0-2': 5, 'NOT Inv-nodes 3-5': 1, 'NOT Inv-nodes 6-8': 1}\n",
      "############################  GET CONDITION  ##########################################\n",
      "['Deg-malign 3']\n"
     ]
    }
   ],
   "execution_count": 149
  },
  {
   "metadata": {},
   "cell_type": "markdown",
   "source": "### Learning non-recurrence rule (forget: 0.8, memorize: 0.2)",
   "id": "64e023b2a9637270"
  },
  {
   "metadata": {
    "ExecuteTime": {
     "end_time": "2024-09-17T19:56:22.920768Z",
     "start_time": "2024-09-17T19:56:22.882706Z"
    }
   },
   "cell_type": "code",
   "source": [
    "NonRecurrenceRule = Memory(0.8, 0.2, GenerateRules())\n",
    "for i in range(10000):\n",
    "    observation_id = choice(range(3))\n",
    "    patient = choice([0, 1])\n",
    "    if patient == 1:\n",
    "        type_i_feedback(NonReccurentPatients[observation_id], NonRecurrenceRule)\n",
    "    else:\n",
    "        type_ii_feedback(ReccurentPatients[observation_id], NonRecurrenceRule)\n",
    "\n",
    "print('#############################   GET MEMORY   ##########################################')\n",
    "print(NonRecurrenceRule.get_memory())\n",
    "print('############################  GET CONDITION  ##########################################')\n",
    "print(NonRecurrenceRule.get_condition())"
   ],
   "id": "b1575800345f0885",
   "outputs": [
    {
     "name": "stdout",
     "output_type": "stream",
     "text": [
      "#############################   GET MEMORY   ##########################################\n",
      "{'Deg-malign 1': 1, 'Deg-malign 2': 1, 'Deg-malign 3': 1, 'NOT Deg-malign 1': 1, 'NOT Deg-malign 2': 1, 'NOT Deg-malign 3': 10, 'Menopause ge40': 1, 'Menopause lt40': 1, 'Menopause premeno': 1, 'NOT Menopause ge40': 2, 'NOT Menopause lt40': 1, 'NOT Menopause premeno': 2, 'Inv-nodes 0-2': 18, 'Inv-nodes 3-5': 1, 'Inv-nodes 6-8': 1, 'NOT Inv-nodes 0-2': 2, 'NOT Inv-nodes 3-5': 1, 'NOT Inv-nodes 6-8': 2}\n",
      "############################  GET CONDITION  ##########################################\n",
      "['Inv-nodes 0-2']\n"
     ]
    }
   ],
   "execution_count": 150
  },
  {
   "metadata": {},
   "cell_type": "markdown",
   "source": "### Classify patients using the new conditions set by i and ii",
   "id": "117f4e2846e7d451"
  },
  {
   "metadata": {
    "ExecuteTime": {
     "end_time": "2024-09-17T19:56:22.936318Z",
     "start_time": "2024-09-17T19:56:22.930948Z"
    }
   },
   "cell_type": "code",
   "source": [
    "def classify(observation, RecurrenceRules, NonRecurrenceRules):\n",
    "    vote_sum = 0\n",
    "    for RecurrenceRule in RecurrenceRules:\n",
    "        if evaluate_condition(observation, RecurrenceRule):\n",
    "            vote_sum += 1\n",
    "    for NonRecurrenceRule in NonRecurrenceRules:\n",
    "        if evaluate_condition(observation, NonRecurrenceRule):\n",
    "            vote_sum -= 1\n",
    "    if vote_sum > 0:\n",
    "        print(vote_sum)\n",
    "        return \"Recurrence\"\n",
    "    if vote_sum <= 0:\n",
    "        print(vote_sum)\n",
    "        return \"Non-Recurrence\"\n",
    "\n",
    "def classify2(observation, positive_rules, negative_rules):\n",
    "    votes = 0\n",
    "    for feature in observation:\n",
    "        for rule in positive_rules:\n",
    "            if feature == rule and observation[feature] == True:\n",
    "                votes += 1\n",
    "            if 'NOT ' + feature == rule and observation[feature] == False:\n",
    "                votes += 1\n",
    "        for rule in negative_rules:\n",
    "            if feature == rule and observation[feature] == True:\n",
    "                votes -= 1\n",
    "            if 'NOT ' + feature == rule and observation[feature] == False:\n",
    "                votes -= 1   \n",
    "    print(votes)\n",
    "    if votes > 0:\n",
    "        return \"Recurrence\"\n",
    "    if votes <= 0:\n",
    "        return \"Non-Recurrence\"\n",
    "    \n",
    "print(\"########### RecurrenceRule RULES ################\")\n",
    "print(RecurrenceRule.get_condition())\n",
    "print(\"########### NonRecurrenceRule RULES ################\")\n",
    "print(NonRecurrenceRule.get_condition())\n",
    "print(\"\\n\")\n",
    "    \n",
    "for patient in patients:\n",
    "    print(classify2(patient, RecurrenceRule.get_condition(), NonRecurrenceRule.get_condition()))"
   ],
   "id": "ddc520b8fb4db3cc",
   "outputs": [
    {
     "name": "stdout",
     "output_type": "stream",
     "text": [
      "########### RecurrenceRule RULES ################\n",
      "['Deg-malign 3']\n",
      "########### NonRecurrenceRule RULES ################\n",
      "['Inv-nodes 0-2']\n",
      "\n",
      "\n",
      "1\n",
      "Recurrence\n",
      "0\n",
      "Non-Recurrence\n",
      "1\n",
      "Recurrence\n",
      "-1\n",
      "Non-Recurrence\n",
      "0\n",
      "Non-Recurrence\n",
      "-1\n",
      "Non-Recurrence\n"
     ]
    }
   ],
   "execution_count": 151
  },
  {
   "metadata": {},
   "cell_type": "markdown",
   "source": [
    "### Task 7\n",
    "Repeat 5. and 6. with forget value 0.5 and memorize value 0.5"
   ],
   "id": "a40a62fbb0802e64"
  },
  {
   "metadata": {
    "ExecuteTime": {
     "end_time": "2024-09-17T19:57:09.948535Z",
     "start_time": "2024-09-17T19:57:09.877245Z"
    }
   },
   "cell_type": "code",
   "source": [
    "RecurrenceRule = Memory(0.5,0.5,GenerateRules())\n",
    "for i in range(10000):\n",
    "    observation_id = choice(range(3))\n",
    "    patient = choice([0,1])\n",
    "    if patient == 1:\n",
    "        type_i_feedback(ReccurentPatients[observation_id], RecurrenceRule)\n",
    "    else:\n",
    "        type_ii_feedback(NonReccurentPatients[observation_id], RecurrenceRule)\n",
    "\n",
    "print('#############################   GET MEMORY   ##########################################')     \n",
    "print(RecurrenceRule.get_memory())\n",
    "print('############################  GET CONDITION  ##########################################')\n",
    "print(RecurrenceRule.get_condition())\n",
    "print()\n",
    "\n",
    "NonRecurrenceRule = Memory(0.5, 0.5, GenerateRules())\n",
    "for i in range(10000):\n",
    "    observation_id = choice(range(3))\n",
    "    patient = choice([0, 1])\n",
    "    if patient == 1:\n",
    "        type_i_feedback(NonReccurentPatients[observation_id], NonRecurrenceRule)\n",
    "    else:\n",
    "        type_ii_feedback(ReccurentPatients[observation_id], NonRecurrenceRule)\n",
    "\n",
    "print('#############################   GET MEMORY   ##########################################')\n",
    "print(NonRecurrenceRule.get_memory())\n",
    "print('############################  GET CONDITION  ##########################################')\n",
    "print(NonRecurrenceRule.get_condition())\n",
    "print()\n"
   ],
   "id": "2c917e88ccc2d555",
   "outputs": [
    {
     "name": "stdout",
     "output_type": "stream",
     "text": [
      "#############################   GET MEMORY   ##########################################\n",
      "{'Deg-malign 1': 1, 'Deg-malign 2': 1, 'Deg-malign 3': 19, 'NOT Deg-malign 1': 1, 'NOT Deg-malign 2': 2, 'NOT Deg-malign 3': 1, 'Menopause ge40': 20, 'Menopause lt40': 1, 'Menopause premeno': 1, 'NOT Menopause ge40': 3, 'NOT Menopause lt40': 1, 'NOT Menopause premeno': 1, 'Inv-nodes 0-2': 1, 'Inv-nodes 3-5': 1, 'Inv-nodes 6-8': 3, 'NOT Inv-nodes 0-2': 11, 'NOT Inv-nodes 3-5': 1, 'NOT Inv-nodes 6-8': 1}\n",
      "############################  GET CONDITION  ##########################################\n",
      "['Deg-malign 3', 'Menopause ge40', 'NOT Inv-nodes 0-2']\n",
      "\n",
      "#############################   GET MEMORY   ##########################################\n",
      "{'Deg-malign 1': 2, 'Deg-malign 2': 1, 'Deg-malign 3': 1, 'NOT Deg-malign 1': 1, 'NOT Deg-malign 2': 1, 'NOT Deg-malign 3': 9, 'Menopause ge40': 1, 'Menopause lt40': 1, 'Menopause premeno': 3, 'NOT Menopause ge40': 2, 'NOT Menopause lt40': 1, 'NOT Menopause premeno': 1, 'Inv-nodes 0-2': 20, 'Inv-nodes 3-5': 1, 'Inv-nodes 6-8': 1, 'NOT Inv-nodes 0-2': 1, 'NOT Inv-nodes 3-5': 1, 'NOT Inv-nodes 6-8': 1}\n",
      "############################  GET CONDITION  ##########################################\n",
      "['Inv-nodes 0-2']\n",
      "\n"
     ]
    }
   ],
   "execution_count": 157
  },
  {
   "metadata": {},
   "cell_type": "markdown",
   "source": [
    "### Task 8\n",
    "Repeat 5. and 6. with forget value 0.2 and memorize value 0.8"
   ],
   "id": "2800f09b6effff0e"
  },
  {
   "metadata": {
    "ExecuteTime": {
     "end_time": "2024-09-17T19:57:19.295837Z",
     "start_time": "2024-09-17T19:57:19.226422Z"
    }
   },
   "cell_type": "code",
   "source": [
    "RecurrenceRule = Memory(0.2,0.8,GenerateRules())\n",
    "for i in range(10000):\n",
    "    observation_id = choice(range(3))\n",
    "    patient = choice([0, 1])\n",
    "    if patient == 1:\n",
    "        type_i_feedback(ReccurentPatients[observation_id], RecurrenceRule)\n",
    "    else:\n",
    "        type_ii_feedback(NonReccurentPatients[observation_id], RecurrenceRule)\n",
    "\n",
    "print('#############################   GET MEMORY   ##########################################')\n",
    "print(RecurrenceRule.get_memory())\n",
    "print('############################  GET CONDITION  ##########################################')\n",
    "print(RecurrenceRule.get_condition())\n",
    "print()\n",
    "\n",
    "NonRecurrenceRule = Memory(0.2, 0.8, GenerateRules())\n",
    "for i in range(10000):\n",
    "    observation_id = choice(range(3))\n",
    "    patient = choice([0, 1])\n",
    "    if patient == 1:\n",
    "        type_i_feedback(NonReccurentPatients[observation_id], NonRecurrenceRule)\n",
    "    else:\n",
    "        type_ii_feedback(ReccurentPatients[observation_id], NonRecurrenceRule)\n",
    "\n",
    "print('#############################   GET MEMORY   ##########################################')\n",
    "print(NonRecurrenceRule.get_memory())\n",
    "print('############################  GET CONDITION  ##########################################')\n",
    "print(NonRecurrenceRule.get_condition())\n",
    "print()\n",
    "\n"
   ],
   "id": "24026a9ff07515d1",
   "outputs": [
    {
     "name": "stdout",
     "output_type": "stream",
     "text": [
      "#############################   GET MEMORY   ##########################################\n",
      "{'Deg-malign 1': 1, 'Deg-malign 2': 1, 'Deg-malign 3': 20, 'NOT Deg-malign 1': 1, 'NOT Deg-malign 2': 1, 'NOT Deg-malign 3': 2, 'Menopause ge40': 20, 'Menopause lt40': 1, 'Menopause premeno': 1, 'NOT Menopause ge40': 1, 'NOT Menopause lt40': 2, 'NOT Menopause premeno': 1, 'Inv-nodes 0-2': 2, 'Inv-nodes 3-5': 19, 'Inv-nodes 6-8': 17, 'NOT Inv-nodes 0-2': 11, 'NOT Inv-nodes 3-5': 1, 'NOT Inv-nodes 6-8': 1}\n",
      "############################  GET CONDITION  ##########################################\n",
      "['Deg-malign 3', 'Menopause ge40', 'Inv-nodes 3-5', 'Inv-nodes 6-8', 'NOT Inv-nodes 0-2']\n",
      "\n",
      "#############################   GET MEMORY   ##########################################\n",
      "{'Deg-malign 1': 18, 'Deg-malign 2': 20, 'Deg-malign 3': 1, 'NOT Deg-malign 1': 1, 'NOT Deg-malign 2': 1, 'NOT Deg-malign 3': 10, 'Menopause ge40': 20, 'Menopause lt40': 1, 'Menopause premeno': 17, 'NOT Menopause ge40': 1, 'NOT Menopause lt40': 1, 'NOT Menopause premeno': 1, 'Inv-nodes 0-2': 20, 'Inv-nodes 3-5': 1, 'Inv-nodes 6-8': 1, 'NOT Inv-nodes 0-2': 1, 'NOT Inv-nodes 3-5': 1, 'NOT Inv-nodes 6-8': 3}\n",
      "############################  GET CONDITION  ##########################################\n",
      "['Deg-malign 1', 'Deg-malign 2', 'Menopause ge40', 'Menopause premeno', 'Inv-nodes 0-2']\n",
      "\n"
     ]
    }
   ],
   "execution_count": 160
  },
  {
   "metadata": {},
   "cell_type": "markdown",
   "source": "### Tests 1",
   "id": "6b66d92cabe73f43"
  },
  {
   "metadata": {
    "ExecuteTime": {
     "start_time": "2024-09-17T19:56:23.195037Z"
    }
   },
   "cell_type": "code",
   "source": [
    "correctClassification = [\"Recurrence\", \"Non-Recurrence\", \"Recurrence\", \"Non-Recurrence\", \"Recurrence\", \"Non-Recurrence\"]\n",
    "\n",
    "attemptedClassification = []\n",
    "\n",
    "RecurrenceRule = Memory(0.2,0.8,GenerateRules())\n",
    "NonRecurrenceRule = Memory(0.2, 0.8, GenerateRules())\n",
    "\n",
    "while correctClassification != attemptedClassification:\n",
    "    attemptedClassification.clear()\n",
    "\n",
    "    for i in range(10000):\n",
    "        observation_id = choice(range(3))\n",
    "        patient = choice([0, 1])\n",
    "        if patient == 1:\n",
    "            type_i_feedback(ReccurentPatients[observation_id], RecurrenceRule)\n",
    "        else:\n",
    "            type_ii_feedback(NonReccurentPatients[observation_id], RecurrenceRule)\n",
    "    \n",
    "    #print('#############################   GET MEMORY   ##########################################')\n",
    "    #print(RecurrenceRule.get_memory())\n",
    "    #print('############################  GET CONDITION  ##########################################')\n",
    "    #print(RecurrenceRule.get_condition())\n",
    "    #print()\n",
    "    \n",
    "\n",
    "    for i in range(10000):\n",
    "        observation_id = choice(range(3))\n",
    "        patient = choice([0, 1])\n",
    "        if patient == 1:\n",
    "            type_i_feedback(NonReccurentPatients[observation_id], NonRecurrenceRule)\n",
    "        else:\n",
    "            type_ii_feedback(ReccurentPatients[observation_id], NonRecurrenceRule)\n",
    "    \n",
    "    #print('#############################   GET MEMORY   ##########################################')\n",
    "    #print(NonRecurrenceRule.get_memory())\n",
    "    #print('############################  GET CONDITION  ##########################################')\n",
    "    #print(NonRecurrenceRule.get_condition())\n",
    "    #print()\n",
    "    \n",
    "    print('################ Classification run ##################')\n",
    "    for patient in patients:\n",
    "        attemptedClassification.append(classify(patient, [RecurrenceRule], [NonRecurrenceRule]))\n",
    "    \n",
    "    print(attemptedClassification)\n",
    "    print('\\n')\n",
    "\n",
    "print('################ FINAL RUN ##################')\n",
    "print(attemptedClassification)\n",
    "\n"
   ],
   "id": "de8e60e71c63cdcd",
   "outputs": [
    {
     "name": "stdout",
     "output_type": "stream",
     "text": [
      "################ Classification run ##################\n",
      "['Recurrence', 'Non-Recurrence', 'Recurrence', 'Non-Recurrence', 'Non-Recurrence', 'Non-Recurrence']\n",
      "\n",
      "\n",
      "################ Classification run ##################\n",
      "['Recurrence', 'Non-Recurrence', 'Recurrence', 'Non-Recurrence', 'Non-Recurrence', 'Non-Recurrence']\n",
      "\n",
      "\n",
      "################ Classification run ##################\n",
      "['Recurrence', 'Non-Recurrence', 'Recurrence', 'Non-Recurrence', 'Non-Recurrence', 'Non-Recurrence']\n",
      "\n",
      "\n",
      "################ Classification run ##################\n",
      "['Recurrence', 'Recurrence', 'Recurrence', 'Non-Recurrence', 'Recurrence', 'Non-Recurrence']\n",
      "\n",
      "\n",
      "################ Classification run ##################\n",
      "['Recurrence', 'Non-Recurrence', 'Recurrence', 'Non-Recurrence', 'Non-Recurrence', 'Non-Recurrence']\n",
      "\n",
      "\n",
      "################ Classification run ##################\n",
      "['Non-Recurrence', 'Non-Recurrence', 'Non-Recurrence', 'Non-Recurrence', 'Non-Recurrence', 'Non-Recurrence']\n",
      "\n",
      "\n",
      "################ Classification run ##################\n",
      "['Recurrence', 'Recurrence', 'Recurrence', 'Non-Recurrence', 'Recurrence', 'Non-Recurrence']\n",
      "\n",
      "\n",
      "################ Classification run ##################\n",
      "['Recurrence', 'Recurrence', 'Recurrence', 'Non-Recurrence', 'Recurrence', 'Non-Recurrence']\n",
      "\n",
      "\n",
      "################ Classification run ##################\n",
      "['Recurrence', 'Non-Recurrence', 'Recurrence', 'Non-Recurrence', 'Non-Recurrence', 'Non-Recurrence']\n",
      "\n",
      "\n",
      "################ Classification run ##################\n",
      "['Recurrence', 'Non-Recurrence', 'Recurrence', 'Non-Recurrence', 'Non-Recurrence', 'Non-Recurrence']\n",
      "\n",
      "\n",
      "################ Classification run ##################\n",
      "['Recurrence', 'Non-Recurrence', 'Recurrence', 'Non-Recurrence', 'Non-Recurrence', 'Non-Recurrence']\n",
      "\n",
      "\n",
      "################ Classification run ##################\n",
      "['Recurrence', 'Non-Recurrence', 'Recurrence', 'Non-Recurrence', 'Non-Recurrence', 'Non-Recurrence']\n",
      "\n",
      "\n",
      "################ Classification run ##################\n",
      "['Non-Recurrence', 'Non-Recurrence', 'Non-Recurrence', 'Non-Recurrence', 'Non-Recurrence', 'Non-Recurrence']\n",
      "\n",
      "\n",
      "################ Classification run ##################\n",
      "['Recurrence', 'Non-Recurrence', 'Recurrence', 'Non-Recurrence', 'Non-Recurrence', 'Non-Recurrence']\n",
      "\n",
      "\n",
      "################ Classification run ##################\n",
      "['Recurrence', 'Non-Recurrence', 'Recurrence', 'Non-Recurrence', 'Non-Recurrence', 'Non-Recurrence']\n",
      "\n",
      "\n",
      "################ Classification run ##################\n",
      "['Recurrence', 'Recurrence', 'Recurrence', 'Non-Recurrence', 'Recurrence', 'Non-Recurrence']\n",
      "\n",
      "\n",
      "################ Classification run ##################\n",
      "['Recurrence', 'Non-Recurrence', 'Recurrence', 'Non-Recurrence', 'Non-Recurrence', 'Non-Recurrence']\n",
      "\n",
      "\n",
      "################ Classification run ##################\n",
      "['Recurrence', 'Non-Recurrence', 'Recurrence', 'Non-Recurrence', 'Non-Recurrence', 'Non-Recurrence']\n",
      "\n",
      "\n",
      "################ Classification run ##################\n",
      "['Non-Recurrence', 'Non-Recurrence', 'Non-Recurrence', 'Non-Recurrence', 'Non-Recurrence', 'Non-Recurrence']\n",
      "\n",
      "\n",
      "################ Classification run ##################\n",
      "['Recurrence', 'Non-Recurrence', 'Recurrence', 'Non-Recurrence', 'Non-Recurrence', 'Non-Recurrence']\n",
      "\n",
      "\n",
      "################ Classification run ##################\n",
      "['Recurrence', 'Recurrence', 'Recurrence', 'Non-Recurrence', 'Recurrence', 'Non-Recurrence']\n",
      "\n",
      "\n",
      "################ Classification run ##################\n",
      "['Non-Recurrence', 'Non-Recurrence', 'Non-Recurrence', 'Non-Recurrence', 'Non-Recurrence', 'Non-Recurrence']\n",
      "\n",
      "\n",
      "################ Classification run ##################\n",
      "['Recurrence', 'Non-Recurrence', 'Recurrence', 'Non-Recurrence', 'Non-Recurrence', 'Non-Recurrence']\n",
      "\n",
      "\n",
      "################ Classification run ##################\n",
      "['Non-Recurrence', 'Non-Recurrence', 'Non-Recurrence', 'Non-Recurrence', 'Non-Recurrence', 'Non-Recurrence']\n",
      "\n",
      "\n",
      "################ Classification run ##################\n",
      "['Recurrence', 'Non-Recurrence', 'Recurrence', 'Non-Recurrence', 'Non-Recurrence', 'Non-Recurrence']\n",
      "\n",
      "\n",
      "################ Classification run ##################\n",
      "['Recurrence', 'Recurrence', 'Recurrence', 'Non-Recurrence', 'Recurrence', 'Non-Recurrence']\n",
      "\n",
      "\n",
      "################ Classification run ##################\n",
      "['Recurrence', 'Non-Recurrence', 'Recurrence', 'Non-Recurrence', 'Non-Recurrence', 'Non-Recurrence']\n",
      "\n",
      "\n",
      "################ Classification run ##################\n",
      "['Recurrence', 'Non-Recurrence', 'Recurrence', 'Non-Recurrence', 'Non-Recurrence', 'Non-Recurrence']\n",
      "\n",
      "\n",
      "################ Classification run ##################\n",
      "['Non-Recurrence', 'Non-Recurrence', 'Non-Recurrence', 'Non-Recurrence', 'Non-Recurrence', 'Non-Recurrence']\n",
      "\n",
      "\n",
      "################ Classification run ##################\n",
      "['Recurrence', 'Non-Recurrence', 'Recurrence', 'Non-Recurrence', 'Non-Recurrence', 'Non-Recurrence']\n",
      "\n",
      "\n",
      "################ Classification run ##################\n",
      "['Recurrence', 'Non-Recurrence', 'Recurrence', 'Non-Recurrence', 'Non-Recurrence', 'Non-Recurrence']\n",
      "\n",
      "\n",
      "################ Classification run ##################\n",
      "['Recurrence', 'Non-Recurrence', 'Recurrence', 'Non-Recurrence', 'Non-Recurrence', 'Non-Recurrence']\n",
      "\n",
      "\n",
      "################ Classification run ##################\n",
      "['Recurrence', 'Non-Recurrence', 'Recurrence', 'Non-Recurrence', 'Non-Recurrence', 'Non-Recurrence']\n",
      "\n",
      "\n"
     ]
    },
    {
     "ename": "KeyboardInterrupt",
     "evalue": "",
     "output_type": "error",
     "traceback": [
      "\u001B[1;31m---------------------------------------------------------------------------\u001B[0m",
      "\u001B[1;31mKeyboardInterrupt\u001B[0m                         Traceback (most recent call last)",
      "Cell \u001B[1;32mIn[154], line 30\u001B[0m\n\u001B[0;32m     28\u001B[0m patient \u001B[38;5;241m=\u001B[39m choice([\u001B[38;5;241m0\u001B[39m, \u001B[38;5;241m1\u001B[39m])\n\u001B[0;32m     29\u001B[0m \u001B[38;5;28;01mif\u001B[39;00m patient \u001B[38;5;241m==\u001B[39m \u001B[38;5;241m1\u001B[39m:\n\u001B[1;32m---> 30\u001B[0m     \u001B[43mtype_i_feedback\u001B[49m\u001B[43m(\u001B[49m\u001B[43mNonReccurentPatients\u001B[49m\u001B[43m[\u001B[49m\u001B[43mobservation_id\u001B[49m\u001B[43m]\u001B[49m\u001B[43m,\u001B[49m\u001B[43m \u001B[49m\u001B[43mNonRecurrenceRule\u001B[49m\u001B[43m)\u001B[49m\n\u001B[0;32m     31\u001B[0m \u001B[38;5;28;01melse\u001B[39;00m:\n\u001B[0;32m     32\u001B[0m     type_ii_feedback(ReccurentPatients[observation_id], NonRecurrenceRule)\n",
      "Cell \u001B[1;32mIn[146], line 16\u001B[0m, in \u001B[0;36mtype_i_feedback\u001B[1;34m(observation, memory)\u001B[0m\n\u001B[0;32m     14\u001B[0m remaining_literals \u001B[38;5;241m=\u001B[39m memory\u001B[38;5;241m.\u001B[39mget_literals()\n\u001B[0;32m     15\u001B[0m \u001B[38;5;66;03m#print(remaining_literals)\u001B[39;00m\n\u001B[1;32m---> 16\u001B[0m \u001B[38;5;28;01mif\u001B[39;00m evaluate_condition(observation, \u001B[43mmemory\u001B[49m\u001B[38;5;241;43m.\u001B[39;49m\u001B[43mget_condition\u001B[49m\u001B[43m(\u001B[49m\u001B[43m)\u001B[49m):\n\u001B[0;32m     17\u001B[0m     \u001B[38;5;28;01mfor\u001B[39;00m feature \u001B[38;5;129;01min\u001B[39;00m observation:\n\u001B[0;32m     18\u001B[0m         \u001B[38;5;66;03m#print('Feature: ' + feature)\u001B[39;00m\n\u001B[0;32m     19\u001B[0m         \u001B[38;5;28;01mif\u001B[39;00m observation[feature]:\n",
      "Cell \u001B[1;32mIn[145], line -1\u001B[0m, in \u001B[0;36mMemory.get_condition\u001B[1;34m(self)\u001B[0m\n\u001B[0;32m      0\u001B[0m <Error retrieving source code with stack_data see ipython/ipython#13598>\n",
      "\u001B[1;31mKeyboardInterrupt\u001B[0m: "
     ]
    }
   ],
   "execution_count": 154
  },
  {
   "metadata": {},
   "cell_type": "markdown",
   "source": "### Tests 2",
   "id": "ebf5e5bb7f317a6e"
  },
  {
   "metadata": {
    "ExecuteTime": {
     "end_time": "2024-09-17T19:56:25.339042400Z",
     "start_time": "2024-09-17T18:51:40.877085Z"
    }
   },
   "cell_type": "code",
   "source": [
    "RecurrenceRule = Memory(0.5,0.5,GenerateRules())\n",
    "\n",
    "rule2 = ['Deg-malign 3', 'NOT Inv-nodes 0-2', 'NOT Menopause lt40']\n",
    "\n",
    "while not set(rule2).issubset(set(RecurrenceRule.get_condition())):\n",
    "    observation_id = choice(range(3))\n",
    "    patient = choice([0,1])\n",
    "    if patient == 1:\n",
    "        type_i_feedback(ReccurentPatients[observation_id], RecurrenceRule)\n",
    "    else:\n",
    "        type_ii_feedback(NonReccurentPatients[observation_id], RecurrenceRule)\n",
    "        \n",
    "\n",
    "print('#############################   GET MEMORY   ##########################################')     \n",
    "print(RecurrenceRule.get_memory())\n",
    "print('############################  GET CONDITION  ##########################################')\n",
    "print(RecurrenceRule.get_condition())\n",
    "\n",
    "NonRecurrenceRule = Memory(0.5, 0.5, GenerateRules())\n",
    "\n",
    "rule3 = ['NOT Deg-malign 3', 'Inv-nodes 0-2', 'Menopause lt40']\n",
    "\n",
    "while not set(rule3).issubset(set(NonRecurrenceRule.get_condition())):\n",
    "    observation_id = choice(range(3))\n",
    "    patient = choice([0, 1])\n",
    "    if patient == 1:\n",
    "        type_i_feedback(NonReccurentPatients[observation_id], NonRecurrenceRule)\n",
    "    else:\n",
    "        type_ii_feedback(ReccurentPatients[observation_id], NonRecurrenceRule)\n",
    "\n",
    "print('#############################   GET MEMORY   ##########################################')\n",
    "print(NonRecurrenceRule.get_memory())\n",
    "print('############################  GET CONDITION  ##########################################')\n",
    "print(NonRecurrenceRule.get_condition())\n",
    "print()\n"
   ],
   "id": "e38e5d81a30e635",
   "outputs": [
    {
     "name": "stdout",
     "output_type": "stream",
     "text": [
      "#############################   GET MEMORY   ##########################################\n",
      "{'Deg-malign 1': 1, 'Deg-malign 2': 1, 'Deg-malign 3': 20, 'NOT Deg-malign 1': 2, 'NOT Deg-malign 2': 2, 'NOT Deg-malign 3': 8, 'Menopause ge40': 20, 'Menopause lt40': 1, 'Menopause premeno': 1, 'NOT Menopause ge40': 1, 'NOT Menopause lt40': 11, 'NOT Menopause premeno': 2, 'Inv-nodes 0-2': 1, 'Inv-nodes 3-5': 4, 'Inv-nodes 6-8': 1, 'NOT Inv-nodes 0-2': 11, 'NOT Inv-nodes 3-5': 1, 'NOT Inv-nodes 6-8': 1}\n",
      "############################  GET CONDITION  ##########################################\n",
      "['Deg-malign 3', 'Menopause ge40', 'NOT Menopause lt40', 'NOT Inv-nodes 0-2']\n",
      "#############################   GET MEMORY   ##########################################\n",
      "{'Deg-malign 1': 2, 'Deg-malign 2': 1, 'Deg-malign 3': 3, 'NOT Deg-malign 1': 1, 'NOT Deg-malign 2': 1, 'NOT Deg-malign 3': 11, 'Menopause ge40': 2, 'Menopause lt40': 11, 'Menopause premeno': 2, 'NOT Menopause ge40': 6, 'NOT Menopause lt40': 1, 'NOT Menopause premeno': 2, 'Inv-nodes 0-2': 20, 'Inv-nodes 3-5': 1, 'Inv-nodes 6-8': 1, 'NOT Inv-nodes 0-2': 3, 'NOT Inv-nodes 3-5': 3, 'NOT Inv-nodes 6-8': 2}\n",
      "############################  GET CONDITION  ##########################################\n",
      "['NOT Deg-malign 3', 'Menopause lt40', 'Inv-nodes 0-2']\n",
      "\n"
     ]
    }
   ],
   "execution_count": 13
  },
  {
   "metadata": {
    "ExecuteTime": {
     "end_time": "2024-09-17T19:56:25.340042400Z",
     "start_time": "2024-09-17T18:54:21.495173Z"
    }
   },
   "cell_type": "code",
   "source": [
    "RecurrenceRule.forget(\"Menopause ge40\")\n",
    "print(RecurrenceRule.get_memory())"
   ],
   "id": "a395bb0ec7b5ec18",
   "outputs": [
    {
     "name": "stdout",
     "output_type": "stream",
     "text": [
      "{'Deg-malign 1': 1, 'Deg-malign 2': 1, 'Deg-malign 3': 20, 'NOT Deg-malign 1': 2, 'NOT Deg-malign 2': 2, 'NOT Deg-malign 3': 8, 'Menopause ge40': 9, 'Menopause lt40': 1, 'Menopause premeno': 1, 'NOT Menopause ge40': 1, 'NOT Menopause lt40': 11, 'NOT Menopause premeno': 2, 'Inv-nodes 0-2': 1, 'Inv-nodes 3-5': 4, 'Inv-nodes 6-8': 1, 'NOT Inv-nodes 0-2': 11, 'NOT Inv-nodes 3-5': 1, 'NOT Inv-nodes 6-8': 1}\n"
     ]
    }
   ],
   "execution_count": 36
  },
  {
   "metadata": {},
   "cell_type": "markdown",
   "source": "### Test 3",
   "id": "407c03526e997558"
  },
  {
   "metadata": {
    "ExecuteTime": {
     "end_time": "2024-09-17T19:56:25.340042400Z",
     "start_time": "2024-09-17T18:54:24.898005Z"
    }
   },
   "cell_type": "code",
   "source": "print(RecurrenceRule.get_condition())",
   "id": "d31f6296add3148a",
   "outputs": [
    {
     "name": "stdout",
     "output_type": "stream",
     "text": [
      "['Deg-malign 3', 'NOT Menopause lt40', 'NOT Inv-nodes 0-2']\n"
     ]
    }
   ],
   "execution_count": 37
  },
  {
   "metadata": {
    "ExecuteTime": {
     "end_time": "2024-09-17T19:56:25.340042400Z",
     "start_time": "2024-09-17T19:52:35.915770Z"
    }
   },
   "cell_type": "code",
   "source": [
    "print(RecurrenceRule.get_condition())\n",
    "print(NonRecurrenceRule.get_condition())\n",
    "\n",
    "def classify2(observation, positive_rules, negative_rules):\n",
    "    votes = 0\n",
    "    for feature in observation:\n",
    "        for rule in positive_rules:\n",
    "            if feature == rule and observation[feature] == True:\n",
    "                votes += 1\n",
    "            if 'NOT ' + feature == rule and observation[feature] == False:\n",
    "                votes += 1\n",
    "        for rule in negative_rules:\n",
    "            if feature == rule and observation[feature] == True:\n",
    "                votes -= 1\n",
    "            if 'NOT ' + feature == rule and observation[feature] == False:\n",
    "                votes -= 1   \n",
    "    print(votes)\n",
    "    if votes > 0:\n",
    "        return \"Recurrence\"\n",
    "    if votes <= 0:\n",
    "        return \"Non-Recurrence\"\n",
    "    \n",
    "def evaluate_positive_condition(observation, feature, rules):\n",
    "    truth_value_of_condition = True\n",
    "    if feature in rules and observation[feature] == True:\n",
    "        truth_value_of_condition = True\n",
    "    elif 'NOT ' + feature in rules and observation[feature] == True:\n",
    "        truth_value_of_condition = False\n",
    "    return truth_value_of_condition\n",
    "\n",
    "def evaluate_negative_condition(observation, feature, rules):\n",
    "    truth_value_of_condition = True\n",
    "    if feature in rules and observation[feature] == True:\n",
    "        truth_value_of_condition = True\n",
    "    elif 'NOT ' + feature in rules and observation[feature] == True:\n",
    "        truth_value_of_condition = False\n",
    "    return truth_value_of_condition\n",
    "    \n",
    "def classify(observation, RecurrenceRules, NonRecurrenceRules):\n",
    "    vote_sum = 0\n",
    "    for feature in observation:\n",
    "        if evaluate_condition(observation, feature, RecurrenceRules):\n",
    "            vote_sum += 1\n",
    "        else:\n",
    "            vote_sum -= 1\n",
    "        if evaluate_condition(observation, feature, NonRecurrenceRules):\n",
    "            vote_sum -= 1\n",
    "        else:\n",
    "            vote_sum += 1\n",
    "    if vote_sum > 0:\n",
    "        print(vote_sum)\n",
    "        return \"Recurrence\"\n",
    "    if vote_sum <= 0:\n",
    "        print(vote_sum)\n",
    "        return \"Non-Recurrence\"\n",
    "\n",
    "    \n",
    "\n",
    "print('################ Classification run ##################')\n",
    "for patient in patients:\n",
    "    attemptedClassification.append(classify(patient, RecurrenceRule.get_condition(), NonRecurrenceRule.get_condition()))\n",
    "    \n",
    "print(attemptedClassification)\n",
    "print('\\n')\n",
    "attemptedClassification.clear()"
   ],
   "id": "c1b5eb2bfe5408f1",
   "outputs": [
    {
     "name": "stdout",
     "output_type": "stream",
     "text": [
      "['Deg-malign 3', 'NOT Menopause lt40', 'NOT Inv-nodes 0-2']\n",
      "['NOT Deg-malign 3', 'Menopause lt40', 'Inv-nodes 0-2']\n",
      "################ Classification run ##################\n",
      "2\n",
      "-2\n",
      "2\n",
      "-2\n",
      "0\n",
      "-2\n",
      "['Recurrence', 'Non-Recurrence', 'Recurrence', 'Non-Recurrence', 'Non-Recurrence', 'Non-Recurrence']\n",
      "\n",
      "\n"
     ]
    }
   ],
   "execution_count": 132
  }
 ],
 "metadata": {
  "kernelspec": {
   "display_name": "Python 3",
   "language": "python",
   "name": "python3"
  },
  "language_info": {
   "codemirror_mode": {
    "name": "ipython",
    "version": 2
   },
   "file_extension": ".py",
   "mimetype": "text/x-python",
   "name": "python",
   "nbconvert_exporter": "python",
   "pygments_lexer": "ipython2",
   "version": "2.7.6"
  }
 },
 "nbformat": 4,
 "nbformat_minor": 5
}
