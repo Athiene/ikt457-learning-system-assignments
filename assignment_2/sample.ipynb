{
 "cells": [
  {
   "metadata": {},
   "cell_type": "markdown",
   "source": [
    "# This is a sample Jupyter Notebook\n",
    "\n",
    "Below is an example of a code cell. \n",
    "Put your cursor into the cell and press Shift+Enter to execute it and select the next one, or click 'Run Cell' button.\n",
    "\n",
    "Press Double Shift to search everywhere for classes, files, tool windows, actions, and settings.\n",
    "\n",
    "To learn more about Jupyter Notebooks in PyCharm, see [help](https://www.jetbrains.com/help/pycharm/ipython-notebook-support.html).\n",
    "For an overview of PyCharm, go to Help -> Learn IDE features or refer to [our documentation](https://www.jetbrains.com/help/pycharm/getting-started.html)."
   ],
   "id": "8a77807f92f26ee"
  },
  {
   "metadata": {},
   "cell_type": "markdown",
   "source": "Here the patience are initliazed, ",
   "id": "b2de11468f07a350"
  },
  {
   "metadata": {},
   "cell_type": "markdown",
   "source": "",
   "id": "99803602d7762e9a"
  },
  {
   "metadata": {
    "ExecuteTime": {
     "end_time": "2024-09-17T12:18:25.783462Z",
     "start_time": "2024-09-17T12:18:25.780838Z"
    }
   },
   "cell_type": "code",
   "source": "",
   "id": "b22ce238e4fe1085",
   "outputs": [],
   "execution_count": null
  },
  {
   "metadata": {
    "ExecuteTime": {
     "end_time": "2024-09-17T12:18:25.798745Z",
     "start_time": "2024-09-17T12:18:25.794468Z"
    }
   },
   "cell_type": "code",
   "source": [
    "patient = [\n",
    "    {'ge40':True, 'it40':False, 'premeno':False, 'Deg-malig-3':True, 'Deg-malig-2':False, 'Deg-malig-1':False, 'Inv-nodes 0-2': False, 'Inv-nodes 3-5': True, 'Inv-nodes 6-8': False},\n",
    "    {'ge40':False, 'it40':True, 'premeno':False, 'Deg-malig-3':True, 'Deg-malig-2':False, 'Deg-malig-1':False, 'Inv-nodes 0-2': True, 'Inv-nodes 3-5': False, 'Inv-nodes 6-8': False},\n",
    "    {'ge40':True, 'it40':False, 'premeno':False, 'Deg-malig-3':True, 'Deg-malig-2':False, 'Deg-malig-1':False, 'Inv-nodes 0-2': False, 'Inv-nodes 3-5': False, 'Inv-nodes 6-8': True},\n",
    "    {'ge40':True, 'it40':False, 'premeno':False, 'Deg-malig-3': False, 'Deg-malig-2':True, 'Deg-malig-1':False, 'Inv-nodes 0-2': True, 'Inv-nodes 3-5': False, 'Inv-nodes 6-8': False},\n",
    "    {'ge40':False, 'it40':False, 'premeno':True, 'Deg-malig-3': True, 'Deg-malig-2':False, 'Deg-malig-1':False, 'Inv-nodes 0-2': True, 'Inv-nodes 3-5': False, 'Inv-nodes 6-8': False},\n",
    "    {'ge40':False, 'it40':False, 'premeno':True, 'Deg-malig-3':False, 'Deg-malig-2':False, 'Deg-malig-1':True, 'Inv-nodes 0-2': True, 'Inv-nodes 3-5': False, 'Inv-nodes 6-8': False}    \n",
    "]\n"
   ],
   "id": "b58a275f4903ea75",
   "outputs": [],
   "execution_count": 8
  },
  {
   "metadata": {},
   "cell_type": "markdown",
   "source": "",
   "id": "7de320f8d3eeb945"
  },
  {
   "metadata": {},
   "cell_type": "markdown",
   "source": "",
   "id": "3aa59cb96fd060a4"
  },
  {
   "metadata": {},
   "cell_type": "markdown",
   "source": [
    "In essence, we have three conditions.\n",
    "And we then define a function called evaluate_condition.\n",
    "The observation parameter is the patients and the other parameters are the conditions we evaluate the patients with. \n",
    "We do a for loop where we iterate through all the patients and their features. \n",
    "\n",
    "So if a feature is in a condition and is not observed in the patient, its false\n",
    "So if a NOT feature is in a condition and(but) it is observed in the patient, its true\n"
   ],
   "id": "82f7340870031905"
  },
  {
   "metadata": {
    "ExecuteTime": {
     "end_time": "2024-09-17T12:18:25.820786Z",
     "start_time": "2024-09-17T12:18:25.815490Z"
    }
   },
   "cell_type": "code",
   "source": [
    "\n",
    "\n",
    "R1_condition = ['Deg-malig-3', 'NOT it40']\n",
    "R2_condition = ['Deg-malig-3', 'NOT it40']\n",
    "R3_condition = ['Inv-nodes 0-2']\n",
    "\n",
    "def evaluate_condition(observation, R1_condition, R2_condition, R3_condition):\n",
    "    truth_value_of_condition = True\n",
    "    for feature in observation:\n",
    "        if feature in R1_condition and observation[feature] == False:\n",
    "            truth_value_of_condition = False\n",
    "            break\n",
    "        if feature in R2_condition and observation[feature] == False:\n",
    "            truth_value_of_condition = False\n",
    "            break\n",
    "        if feature in R3_condition and observation[feature] == True:\n",
    "            truth_value_of_condition = False\n",
    "            break\n",
    "            \n",
    "        if 'NOT ' + feature in R1_condition and observation[feature] == True:\n",
    "            truth_value_of_condition = False\n",
    "            break \n",
    "            \n",
    "        if 'NOT ' + feature in R2_condition and observation[feature] == True:\n",
    "            truth_value_of_condition = False\n",
    "            break\n",
    "            \n",
    "        if 'NOT ' + feature in R3_condition and observation[feature] == True:\n",
    "            truth_value_of_condition = False\n",
    "            break\n",
    "    return truth_value_of_condition\n",
    "\n",
    "\n",
    "\n",
    "for j in patient:\n",
    "    print(evaluate_condition(j, R1_condition, R2_condition, R3_condition))\n",
    "    \n",
    "\n",
    "\n"
   ],
   "id": "fbc121e30a2defb3",
   "outputs": [
    {
     "name": "stdout",
     "output_type": "stream",
     "text": [
      "True\n",
      "False\n",
      "True\n",
      "False\n",
      "False\n",
      "False\n"
     ]
    }
   ],
   "execution_count": 9
  },
  {
   "metadata": {
    "ExecuteTime": {
     "end_time": "2024-09-17T12:18:25.923170Z",
     "start_time": "2024-09-17T12:18:25.916873Z"
    }
   },
   "cell_type": "code",
   "source": [
    "from random import random\n",
    "\n",
    "\n",
    "class Memory:\n",
    "    def __init__(self, forget_value, memorize_value, memory):\n",
    "        self.memory = memory\n",
    "        self.forget_value = forget_value\n",
    "        self.memorize_value = memorize_value\n",
    "    \n",
    "    def get_memory(self):\n",
    "        return self.memory\n",
    "    \n",
    "    def get_literals(self):\n",
    "        return list(self.memory.keys())\n",
    "    \n",
    "    def get_condition(self):\n",
    "        condition = []\n",
    "        for literal in self.memory:\n",
    "            if self.memory[literal] >= 6:\n",
    "                condition.append(literal)\n",
    "        return condition\n",
    "        \n",
    "    def memorize(self, literal):\n",
    "        if random() <= self.memorize_value and self.memory[literal] < 10:\n",
    "            self.memory[literal] += 1\n",
    "            \n",
    "    def forget(self, literal):\n",
    "        if random() <= self.forget_value and self.memory[literal] > 1:\n",
    "            self.memory[literal] -= 1\n",
    "            \n",
    "    def memorize_always(self, literal):\n",
    "        if  self.memory[literal] < 10:\n",
    "            self.memory[literal] += 1"
   ],
   "id": "dcfa47b6626b59c8",
   "outputs": [],
   "execution_count": 10
  },
  {
   "metadata": {},
   "cell_type": "markdown",
   "source": "",
   "id": "c9f3087b9b999b09"
  },
  {
   "metadata": {},
   "cell_type": "code",
   "outputs": [],
   "execution_count": null,
   "source": "patient_rule = Memory(0.9, 0.1, {'Deg-malig-3':7, 'NOT Deg-malig-3':3, 'Deg-malig-2':2, 'NOT Deg-malig-2':7, 'Deg-malig-1':1, 'NOT Deg-malig-1':9, 'premeno':6, 'NOT premeno':4, 'it40':1, 'NOT it40':9 , 'ge40':7 , 'NOT ge40':5 , 'Inv-nodes 0-2':8 , 'NOT Inv-nodes 0-2':4 , 'Inv-nodes 3-5':8 , 'NOT Inv-nodes 3-5':7, 'Inv-nodes 6-8':8 , 'NOT Inv-nodes 6-8':7 })\n",
   "id": "ffd3482376bc9c56"
  }
 ],
 "metadata": {
  "kernelspec": {
   "display_name": "Python 3",
   "language": "python",
   "name": "python3"
  },
  "language_info": {
   "codemirror_mode": {
    "name": "ipython",
    "version": 2
   },
   "file_extension": ".py",
   "mimetype": "text/x-python",
   "name": "python",
   "nbconvert_exporter": "python",
   "pygments_lexer": "ipython2",
   "version": "2.7.6"
  }
 },
 "nbformat": 4,
 "nbformat_minor": 5
}
