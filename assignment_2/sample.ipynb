{
 "cells": [
  {
   "metadata": {},
   "cell_type": "markdown",
   "source": "### Imports",
   "id": "c54def80bca24ce6"
  },
  {
   "metadata": {
    "ExecuteTime": {
     "end_time": "2024-09-12T10:59:58.471752Z",
     "start_time": "2024-09-12T10:59:58.458150Z"
    }
   },
   "cell_type": "code",
   "source": [
    "from random import choice\n",
    "from random import random\n",
    "import matplotlib.pyplot as plt"
   ],
   "id": "d54c510e3a87df2c",
   "outputs": [],
   "execution_count": 1386
  },
  {
   "metadata": {},
   "cell_type": "markdown",
   "source": [
    "### Booleanization of multi-valued properties \n",
    "![Boolianzied](booleanizedTable.png)\n",
    "\n",
    "#### Advantages of Boolean features\n",
    "- **Boolean algebra** is the same as propositional logic, which models logical reasoning with True and False statements.\n",
    "- You can use **Boolean algebra** – the language of computers – to build patterns.\n",
    "- Boolean features fit well with a computer because you can store them individually as bits.\n"
   ],
   "id": "9817e8a4d19444f8"
  },
  {
   "metadata": {
    "ExecuteTime": {
     "end_time": "2024-09-12T10:59:58.503136Z",
     "start_time": "2024-09-12T10:59:58.483288Z"
    }
   },
   "cell_type": "code",
   "source": [
    "# Recurrent and non-recurrent patients\n",
    "patients = [\n",
    "    {'Menopause ge40': True, 'Inv-nodes 3-5': True, 'Deg-malign 3': True},\n",
    "    {'Menopause lt40': True, 'Inv-nodes 0-2': True, 'Deg-malign 3': True},\n",
    "    {'Menopause ge40': True, 'Inv-nodes 6-8': True, 'Deg-malign 3': True},\n",
    "    {'Menopause ge40': True, 'Inv-nodes 0-2': True, 'Deg-malign 2': True},\n",
    "    {'Menopause premeno': True, 'Inv-nodes 0-2': True, 'Deg-malign 3': True},\n",
    "    {'Menopause premeno':True , 'Inv-nodes 0-2': True, 'Deg-malign 1': True}\n",
    "]\n",
    "\n",
    "# Additional patients\n",
    "patients1 = [\n",
    "    {'Menopause ge40': True, 'Inv-nodes 3-5': True, 'Deg-malign 3': True},\n",
    "    {'Menopause lt40': True, 'Inv-nodes 0-2': True, 'Deg-malign 3': True},\n",
    "    {'Menopause ge40': True, 'Inv-nodes 6-8': True, 'Deg-malign 3': True},\n",
    "    {'Menopause ge40': True, 'Inv-nodes 0-2': True, 'Deg-malign 2': True},\n",
    "    {'Menopause premeno': True, 'Inv-nodes 0-2': True, 'Deg-malign 3': True},\n",
    "    {'Menopause premeno': True, 'Inv-nodes 0-2': True, 'Deg-malign 1': True},\n",
    "\n",
    "    {'Menopause ge40': True, 'Inv-nodes 6-8': True, 'Deg-malign 3': True},\n",
    "    {'Menopause lt40': True, 'Inv-nodes 3-5': True, 'Deg-malign 2': True},\n",
    "    {'Menopause premeno': True, 'Inv-nodes 6-8': True, 'Deg-malign 2': True},\n",
    "    {'Menopause ge40': True, 'Inv-nodes 0-2': True, 'Deg-malign 3': True},\n",
    "    {'Menopause lt40': True, 'Inv-nodes 3-5': True, 'Deg-malign 1': True},\n",
    "    {'Menopause premeno': True, 'Inv-nodes 0-2': True, 'Deg-malign 2': True}\n",
    "]\n",
    "\n",
    "# Rule for recurrent patient - Not used for i and ii\n",
    "Rules = [{'Deg-malign 3', 'NOT Menopause lt40'},\n",
    "         {'Deg-malign 3'},\n",
    "         {'NOT Inv-nodes 0-2'}]\n"
   ],
   "id": "bca4014056d7baf5",
   "outputs": [],
   "execution_count": 1387
  },
  {
   "metadata": {},
   "cell_type": "markdown",
   "source": "### Evaluation of features based on rules",
   "id": "8a77807f92f26ee"
  },
  {
   "metadata": {
    "ExecuteTime": {
     "end_time": "2024-09-12T10:59:58.534683Z",
     "start_time": "2024-09-12T10:59:58.520230Z"
    }
   },
   "cell_type": "code",
   "source": [
    "def evaluate_condition(observation, condition):\n",
    "    truth_value_of_condition = True\n",
    "    for feature in observation:\n",
    "        if feature in condition and observation[feature] == False:\n",
    "            truth_value_of_condition = False\n",
    "            break\n",
    "        if 'NOT ' + feature in condition and observation[feature] == True:\n",
    "            truth_value_of_condition = False\n",
    "            break\n",
    "    return truth_value_of_condition\n"
   ],
   "id": "fbc121e30a2defb3",
   "outputs": [],
   "execution_count": 1388
  },
  {
   "metadata": {},
   "cell_type": "markdown",
   "source": [
    "### Memory system\n",
    "![rule_memory_example](rule_memory_example.png)\n",
    "\n",
    "#### Key points of a memory system\n",
    "- A way for the tsetlin machine to remember important features\n",
    "\n"
   ],
   "id": "2b0d2b98902bca93"
  },
  {
   "metadata": {
    "ExecuteTime": {
     "end_time": "2024-09-12T10:59:58.566302Z",
     "start_time": "2024-09-12T10:59:58.551947Z"
    }
   },
   "cell_type": "code",
   "source": [
    "class Memory:\n",
    "    def __init__(self, forget_value, memorize_value, memory):\n",
    "        self.memory = memory\n",
    "        self.forget_value = forget_value\n",
    "        self.memorize_value = memorize_value\n",
    "        self.memoryAmount = 10\n",
    "        self.memoryLine = (self.memoryAmount / 2) + 1\n",
    "\n",
    "    def get_memory(self):\n",
    "        return self.memory\n",
    "\n",
    "    def get_literals(self):\n",
    "        return list(self.memory.keys())\n",
    "\n",
    "    def get_condition(self):\n",
    "        condition = []\n",
    "        for literal in self.memory:\n",
    "            if self.memory[literal] >= self.memoryLine:\n",
    "                condition.append(literal)\n",
    "        return condition\n",
    "\n",
    "    def memorize(self, literal):\n",
    "        if random() <= self.memorize_value and self.memory[literal] < self.memoryAmount:\n",
    "            self.memory[literal] += 1\n",
    "\n",
    "    def forget(self, literal):\n",
    "        if random() <= self.forget_value and self.memory[literal] > 1:\n",
    "            self.memory[literal] -= 1\n",
    "\n",
    "    def memorize_always(self, literal):\n",
    "        if  self.memory[literal] < self.memoryAmount:\n",
    "            self.memory[literal] += 1"
   ],
   "id": "f35c591d36cbc6bb",
   "outputs": [],
   "execution_count": 1389
  },
  {
   "metadata": {},
   "cell_type": "markdown",
   "source": [
    "### Type i and ii feedback\n",
    "\n",
    "#### Type i feedback\n",
    "The type_i_feedback() method produces frequent patterns with two learning steps:\n",
    "- Check if the condition part of the rule is True by assessing the object's literals. If the condition part is True, then memorize all the literals that are True for the object.\n",
    "- Forget all remaining literals.\n",
    "\n",
    "#### Type ii feedback\n",
    "The type_ii_feedback() method implements the third and final learning step:\n",
    "\n",
    "- Check if the condition part of the rule is True by assessing the object’s literals. If the condition part is True, then memorize all Forgotten literals that are False for the object. This time there is no randomization – the increment is always performed."
   ],
   "id": "33f61813499db1de"
  },
  {
   "metadata": {
    "ExecuteTime": {
     "end_time": "2024-09-12T10:59:58.597057Z",
     "start_time": "2024-09-12T10:59:58.582641Z"
    }
   },
   "cell_type": "code",
   "source": [
    "def type_i_feedback(observation, memory):\n",
    "    remaining_literals = memory.get_literals()\n",
    "    #print(remaining_literals)\n",
    "    if evaluate_condition(observation, memory.get_condition()):\n",
    "        for feature in observation:\n",
    "            #print('Feature: ' + feature)\n",
    "            if observation[feature]:\n",
    "                memory.memorize(feature)\n",
    "                remaining_literals.remove(feature)\n",
    "            elif not observation[feature]:\n",
    "                memory.memorize('NOT ' + feature)\n",
    "                remaining_literals.remove('NOT ' + feature)\n",
    "    for literal in remaining_literals:\n",
    "        #print('Remaining Literal:' + literal)\n",
    "        memory.forget(literal)\n",
    "        \n",
    "def type_ii_feedback(observation, memory):\n",
    "    if evaluate_condition(observation, memory.get_condition()):\n",
    "        for feature in observation:\n",
    "            if not observation[feature]:\n",
    "                memory.memorize_always(feature)\n",
    "            elif observation[feature]:\n",
    "                memory.memorize_always('NOT ' + feature)"
   ],
   "id": "d4e63abb84517955",
   "outputs": [],
   "execution_count": 1390
  },
  {
   "metadata": {},
   "cell_type": "markdown",
   "source": [
    "### Generating features\n",
    "\n",
    "This function creates the different features the patients can have including 'NOT' features. This will then be used for the creating of Recurrence and NonRecurrence Rules"
   ],
   "id": "ca7f2e09e0d7545b"
  },
  {
   "metadata": {
    "ExecuteTime": {
     "end_time": "2024-09-12T10:59:58.628972Z",
     "start_time": "2024-09-12T10:59:58.615313Z"
    }
   },
   "cell_type": "code",
   "source": [
    "def GenerateRules():\n",
    "    StartingMemory = 5\n",
    "    RecurrenceConditions = {}\n",
    "    \n",
    "    # Design-malign rules\n",
    "    for i in range(3):\n",
    "        RecurrenceConditions[f'Deg-malign {str(i+1)}'] = StartingMemory\n",
    "    for i in range(3):\n",
    "        RecurrenceConditions[f'NOT Deg-malign {str(i+1)}'] = StartingMemory\n",
    "\n",
    "    # Menopause\n",
    "    Menopause = ['ge40', 'lt40', 'premeno']\n",
    "    for menop in Menopause:\n",
    "        RecurrenceConditions[f'Menopause {menop}'] = StartingMemory\n",
    "    for menop in Menopause:\n",
    "        RecurrenceConditions[f'NOT Menopause {menop}'] = StartingMemory\n",
    "\n",
    "    # Inv-nodes\n",
    "    InvNodes = ['0-2', '3-5', '6-8']\n",
    "    for invnode in InvNodes:\n",
    "        RecurrenceConditions[f'Inv-nodes {invnode}'] = StartingMemory\n",
    "    for invnode in InvNodes:\n",
    "        RecurrenceConditions[f'NOT Inv-nodes {invnode}'] = StartingMemory\n",
    "    \n",
    "    return RecurrenceConditions\n",
    "\n",
    "GenerateRules()"
   ],
   "id": "d6ae241077ffff45",
   "outputs": [
    {
     "data": {
      "text/plain": [
       "{'Deg-malign 1': 5,\n",
       " 'Deg-malign 2': 5,\n",
       " 'Deg-malign 3': 5,\n",
       " 'NOT Deg-malign 1': 5,\n",
       " 'NOT Deg-malign 2': 5,\n",
       " 'NOT Deg-malign 3': 5,\n",
       " 'Menopause ge40': 5,\n",
       " 'Menopause lt40': 5,\n",
       " 'Menopause premeno': 5,\n",
       " 'NOT Menopause ge40': 5,\n",
       " 'NOT Menopause lt40': 5,\n",
       " 'NOT Menopause premeno': 5,\n",
       " 'Inv-nodes 0-2': 5,\n",
       " 'Inv-nodes 3-5': 5,\n",
       " 'Inv-nodes 6-8': 5,\n",
       " 'NOT Inv-nodes 0-2': 5,\n",
       " 'NOT Inv-nodes 3-5': 5,\n",
       " 'NOT Inv-nodes 6-8': 5}"
      ]
     },
     "execution_count": 1391,
     "metadata": {},
     "output_type": "execute_result"
    }
   ],
   "execution_count": 1391
  },
  {
   "metadata": {},
   "cell_type": "markdown",
   "source": "### Classifying the patients and separating them to recurrent and non-recurrent groups",
   "id": "a7bbe719fc4fea7f"
  },
  {
   "metadata": {
    "ExecuteTime": {
     "end_time": "2024-09-12T10:59:58.737651Z",
     "start_time": "2024-09-12T10:59:58.645654Z"
    }
   },
   "cell_type": "code",
   "source": [
    "ReccurentPatients = []\n",
    "NonReccurentPatients = []\n",
    "\n",
    "def ManuallyClassify(observation, rules):\n",
    "    votes = 0\n",
    "    for feature in observation:\n",
    "        for rule in rules:\n",
    "            if feature in rule and observation[feature] == True:\n",
    "                votes += 1\n",
    "            if 'NOT ' + feature in rule and observation[feature] == True:\n",
    "                votes -= 1\n",
    "    if votes > 0:\n",
    "        ReccurentPatients.append(observation)\n",
    "        return \"Recurrence\"\n",
    "    if votes <= 0:\n",
    "        NonReccurentPatients.append(observation)\n",
    "        return \"Non-Recurrence\"\n",
    "\n",
    "for patient in patients:\n",
    "    print(ManuallyClassify(patient, Rules))\n",
    "\n",
    "print('##############################   RECURRENT PATIENTS    ############################################')    \n",
    "print(ReccurentPatients)\n",
    "print('#############################   NON-RECURRENT PATIENTS   ##########################################')    \n",
    "print(NonReccurentPatients)"
   ],
   "id": "d9c4ac04adb610b7",
   "outputs": [
    {
     "name": "stdout",
     "output_type": "stream",
     "text": [
      "Recurrence\n",
      "Non-Recurrence\n",
      "Recurrence\n",
      "Non-Recurrence\n",
      "Recurrence\n",
      "Non-Recurrence\n",
      "##############################   RECURRENT PATIENTS    ############################################\n",
      "[{'Menopause ge40': True, 'Inv-nodes 3-5': True, 'Deg-malign 3': True}, {'Menopause ge40': True, 'Inv-nodes 6-8': True, 'Deg-malign 3': True}, {'Menopause premeno': True, 'Inv-nodes 0-2': True, 'Deg-malign 3': True}]\n",
      "#############################   NON-RECURRENT PATIENTS   ##########################################\n",
      "[{'Menopause lt40': True, 'Inv-nodes 0-2': True, 'Deg-malign 3': True}, {'Menopause ge40': True, 'Inv-nodes 0-2': True, 'Deg-malign 2': True}, {'Menopause premeno': True, 'Inv-nodes 0-2': True, 'Deg-malign 1': True}]\n"
     ]
    },
    {
     "data": {
      "text/plain": [
       "<Figure size 432x288 with 1 Axes>"
      ],
      "image/png": "[encoded data removed]"
     },
     "metadata": {
      "needs_background": "light"
     },
     "output_type": "display_data"
    },
    {
     "ename": "NameError",
     "evalue": "name 'tsetlin' is not defined",
     "output_type": "error",
     "traceback": [
      "\u001B[1;31m---------------------------------------------------------------------------\u001B[0m",
      "\u001B[1;31mNameError\u001B[0m                                 Traceback (most recent call last)",
      "Input \u001B[1;32mIn [1392]\u001B[0m, in \u001B[0;36m<cell line: 35>\u001B[1;34m()\u001B[0m\n\u001B[0;32m     33\u001B[0m plt\u001B[38;5;241m.\u001B[39mylabel(\u001B[38;5;124m'\u001B[39m\u001B[38;5;124mCounted times\u001B[39m\u001B[38;5;124m'\u001B[39m)\n\u001B[0;32m     34\u001B[0m plt\u001B[38;5;241m.\u001B[39mshow()\n\u001B[1;32m---> 35\u001B[0m \u001B[38;5;28mprint\u001B[39m(\u001B[43mtsetlin\u001B[49m)\n",
      "\u001B[1;31mNameError\u001B[0m: name 'tsetlin' is not defined"
     ]
    }
   ],
   "execution_count": 1392
  },
  {
   "metadata": {},
   "cell_type": "markdown",
   "source": "### Learning recurrence rule (forget: 0.8, memorize: 0.2)",
   "id": "aed4d30c60111d30"
  },
  {
   "metadata": {
    "ExecuteTime": {
     "end_time": "2024-09-12T11:01:29.108048Z",
     "start_time": "2024-09-12T11:01:29.039796Z"
    }
   },
   "cell_type": "code",
   "source": [
    "RecurrenceRule = Memory(0.8,0.2,GenerateRules())\n",
    "for i in range(10000):\n",
    "    observation_id = choice([0, 1, 2])\n",
    "    patient = choice([0,1])\n",
    "    if patient == 1:\n",
    "        type_i_feedback(ReccurentPatients[observation_id], RecurrenceRule)\n",
    "    else:\n",
    "        type_ii_feedback(NonReccurentPatients[observation_id], RecurrenceRule)\n",
    "\n",
    "print('#############################   GET MEMORY   ##########################################')     \n",
    "print(RecurrenceRule.get_memory())\n",
    "print('############################  GET CONDITION  ##########################################')\n",
    "print(RecurrenceRule.get_condition())"
   ],
   "id": "2c1622c946354c4f",
   "outputs": [
    {
     "name": "stdout",
     "output_type": "stream",
     "text": [
      "#############################   GET MEMORY   ##########################################\n",
      "{'Deg-malign 1': 1, 'Deg-malign 2': 1, 'Deg-malign 3': 10, 'NOT Deg-malign 1': 3, 'NOT Deg-malign 2': 2, 'NOT Deg-malign 3': 1, 'Menopause ge40': 4, 'Menopause lt40': 1, 'Menopause premeno': 1, 'NOT Menopause ge40': 1, 'NOT Menopause lt40': 1, 'NOT Menopause premeno': 2, 'Inv-nodes 0-2': 1, 'Inv-nodes 3-5': 1, 'Inv-nodes 6-8': 3, 'NOT Inv-nodes 0-2': 5, 'NOT Inv-nodes 3-5': 1, 'NOT Inv-nodes 6-8': 1}\n",
      "############################  GET CONDITION  ##########################################\n",
      "['Deg-malign 3']\n"
     ]
    }
   ],
   "execution_count": 1468
  },
  {
   "metadata": {},
   "cell_type": "markdown",
   "source": "### Learning non-recurrence rule (forget: 0.8, memorize: 0.2)",
   "id": "64e023b2a9637270"
  },
  {
   "metadata": {
    "ExecuteTime": {
     "end_time": "2024-09-12T11:02:39.848192Z",
     "start_time": "2024-09-12T11:02:39.776287Z"
    }
   },
   "cell_type": "code",
   "source": [
    "NonRecurrenceRule = Memory(0.8, 0.2, GenerateRules())\n",
    "for i in range(10000):\n",
    "    observation_id = choice([0, 1, 2])\n",
    "    patient = choice([0, 1])\n",
    "    if patient == 1:\n",
    "        type_i_feedback(NonReccurentPatients[observation_id], NonRecurrenceRule)\n",
    "    else:\n",
    "        type_ii_feedback(ReccurentPatients[observation_id], NonRecurrenceRule)\n",
    "\n",
    "print('#############################   GET MEMORY   ##########################################')\n",
    "print(NonRecurrenceRule.get_memory())\n",
    "print('############################  GET CONDITION  ##########################################')\n",
    "print(NonRecurrenceRule.get_condition())"
   ],
   "id": "b1575800345f0885",
   "outputs": [
    {
     "name": "stdout",
     "output_type": "stream",
     "text": [
      "#############################   GET MEMORY   ##########################################\n",
      "{'Deg-malign 1': 1, 'Deg-malign 2': 1, 'Deg-malign 3': 2, 'NOT Deg-malign 1': 1, 'NOT Deg-malign 2': 1, 'NOT Deg-malign 3': 6, 'Menopause ge40': 1, 'Menopause lt40': 1, 'Menopause premeno': 1, 'NOT Menopause ge40': 3, 'NOT Menopause lt40': 1, 'NOT Menopause premeno': 1, 'Inv-nodes 0-2': 7, 'Inv-nodes 3-5': 1, 'Inv-nodes 6-8': 1, 'NOT Inv-nodes 0-2': 1, 'NOT Inv-nodes 3-5': 3, 'NOT Inv-nodes 6-8': 1}\n",
      "############################  GET CONDITION  ##########################################\n",
      "['NOT Deg-malign 3', 'Inv-nodes 0-2']\n"
     ]
    }
   ],
   "execution_count": 1531
  },
  {
   "metadata": {},
   "cell_type": "markdown",
   "source": "### Classify patients using the new conditions set by i and ii",
   "id": "117f4e2846e7d451"
  },
  {
   "metadata": {
    "ExecuteTime": {
     "end_time": "2024-09-12T11:01:45.895319Z",
     "start_time": "2024-09-12T11:01:45.883340Z"
    }
   },
   "cell_type": "code",
   "source": [
    "def classify(observation, RecurrenceRules, NonRecurrenceRules):\n",
    "    vote_sum = 0\n",
    "    for RecurrenceRule in RecurrenceRules:\n",
    "        if evaluate_condition(observation, RecurrenceRule.get_condition()):\n",
    "            vote_sum += 1\n",
    "    for NonRecurrenceRule in NonRecurrenceRules:\n",
    "        if evaluate_condition(observation, NonRecurrenceRule.get_condition()):\n",
    "            vote_sum -= 1\n",
    "    if vote_sum > 0:\n",
    "        return \"Recurrence\"\n",
    "    if vote_sum <= 0:\n",
    "        return \"Non-Recurrence\"\n",
    "    \n",
    "for patient in patients:\n",
    "    print(classify(patient, [RecurrenceRule], [NonRecurrenceRule]))"
   ],
   "id": "ddc520b8fb4db3cc",
   "outputs": [
    {
     "name": "stdout",
     "output_type": "stream",
     "text": [
      "Recurrence\n",
      "Recurrence\n",
      "Recurrence\n",
      "Non-Recurrence\n",
      "Recurrence\n",
      "Non-Recurrence\n"
     ]
    }
   ],
   "execution_count": 1476
  },
  {
   "metadata": {},
   "cell_type": "markdown",
   "source": [
    "### Task 7\n",
    "Repeat 5. and 6. with forget value 0.5 and memorize value 0.5"
   ],
   "id": "a40a62fbb0802e64"
  },
  {
   "metadata": {
    "ExecuteTime": {
     "end_time": "2024-09-12T11:04:52.756019Z",
     "start_time": "2024-09-12T11:04:52.630480Z"
    }
   },
   "cell_type": "code",
   "source": [
    "RecurrenceRule = Memory(0.5,0.5,GenerateRules())\n",
    "for i in range(10000):\n",
    "    observation_id = choice([0, 1, 2])\n",
    "    patient = choice([0,1])\n",
    "    if patient == 1:\n",
    "        type_i_feedback(ReccurentPatients[observation_id], RecurrenceRule)\n",
    "    else:\n",
    "        type_ii_feedback(NonReccurentPatients[observation_id], RecurrenceRule)\n",
    "\n",
    "print('#############################   GET MEMORY   ##########################################')     \n",
    "print(RecurrenceRule.get_memory())\n",
    "print('############################  GET CONDITION  ##########################################')\n",
    "print(RecurrenceRule.get_condition())\n",
    "print()\n",
    "\n",
    "NonRecurrenceRule = Memory(0.5, 0.5, GenerateRules())\n",
    "for i in range(10000):\n",
    "    observation_id = choice([0, 1, 2])\n",
    "    patient = choice([0, 1])\n",
    "    if patient == 1:\n",
    "        type_i_feedback(NonReccurentPatients[observation_id], NonRecurrenceRule)\n",
    "    else:\n",
    "        type_ii_feedback(ReccurentPatients[observation_id], NonRecurrenceRule)\n",
    "\n",
    "print('#############################   GET MEMORY   ##########################################')\n",
    "print(NonRecurrenceRule.get_memory())\n",
    "print('############################  GET CONDITION  ##########################################')\n",
    "print(NonRecurrenceRule.get_condition())\n",
    "print()\n",
    "\n",
    "def classify(observation, RecurrenceRules, NonRecurrenceRules):\n",
    "    vote_sum = 0\n",
    "    for RecurrenceRule in RecurrenceRules:\n",
    "        if evaluate_condition(observation, RecurrenceRule.get_condition()):\n",
    "            vote_sum += 1\n",
    "    for NonRecurrenceRule in NonRecurrenceRules:\n",
    "        if evaluate_condition(observation, NonRecurrenceRule.get_condition()):\n",
    "            vote_sum -= 1\n",
    "    if vote_sum > 0:\n",
    "        return \"Recurrence\"\n",
    "    if vote_sum <= 0:\n",
    "        return \"Non-Recurrence\"\n",
    "\n",
    "print('################ Classification run ##################')\n",
    "for patient in patients:\n",
    "    print(classify(patient, [RecurrenceRule], [NonRecurrenceRule]))"
   ],
   "id": "2c917e88ccc2d555",
   "outputs": [
    {
     "name": "stdout",
     "output_type": "stream",
     "text": [
      "#############################   GET MEMORY   ##########################################\n",
      "{'Deg-malign 1': 1, 'Deg-malign 2': 1, 'Deg-malign 3': 10, 'NOT Deg-malign 1': 1, 'NOT Deg-malign 2': 2, 'NOT Deg-malign 3': 2, 'Menopause ge40': 9, 'Menopause lt40': 1, 'Menopause premeno': 1, 'NOT Menopause ge40': 1, 'NOT Menopause lt40': 3, 'NOT Menopause premeno': 1, 'Inv-nodes 0-2': 1, 'Inv-nodes 3-5': 1, 'Inv-nodes 6-8': 5, 'NOT Inv-nodes 0-2': 6, 'NOT Inv-nodes 3-5': 1, 'NOT Inv-nodes 6-8': 1}\n",
      "############################  GET CONDITION  ##########################################\n",
      "['Deg-malign 3', 'Menopause ge40', 'NOT Inv-nodes 0-2']\n",
      "\n",
      "#############################   GET MEMORY   ##########################################\n",
      "{'Deg-malign 1': 1, 'Deg-malign 2': 3, 'Deg-malign 3': 2, 'NOT Deg-malign 1': 1, 'NOT Deg-malign 2': 1, 'NOT Deg-malign 3': 3, 'Menopause ge40': 3, 'Menopause lt40': 1, 'Menopause premeno': 1, 'NOT Menopause ge40': 2, 'NOT Menopause lt40': 1, 'NOT Menopause premeno': 2, 'Inv-nodes 0-2': 10, 'Inv-nodes 3-5': 1, 'Inv-nodes 6-8': 1, 'NOT Inv-nodes 0-2': 2, 'NOT Inv-nodes 3-5': 2, 'NOT Inv-nodes 6-8': 1}\n",
      "############################  GET CONDITION  ##########################################\n",
      "['Inv-nodes 0-2']\n",
      "\n",
      "################ Classification run ##################\n",
      "Non-Recurrence\n",
      "Non-Recurrence\n",
      "Non-Recurrence\n",
      "Non-Recurrence\n",
      "Non-Recurrence\n",
      "Non-Recurrence\n"
     ]
    }
   ],
   "execution_count": 1603
  },
  {
   "metadata": {},
   "cell_type": "markdown",
   "source": [
    "### Task 8\n",
    "Repeat 5. and 6. with forget value 0.2 and memorize value 0.8"
   ],
   "id": "2800f09b6effff0e"
  },
  {
   "metadata": {
    "ExecuteTime": {
     "end_time": "2024-09-12T11:10:04.542139Z",
     "start_time": "2024-09-12T11:10:04.426294Z"
    }
   },
   "cell_type": "code",
   "source": [
    "RecurrenceRule = Memory(0.2,0.8,GenerateRules())\n",
    "for i in range(10000):\n",
    "    observation_id = choice([0, 1, 2])\n",
    "    patient = choice([0, 1])\n",
    "    if patient == 1:\n",
    "        type_i_feedback(ReccurentPatients[observation_id], RecurrenceRule)\n",
    "    else:\n",
    "        type_ii_feedback(NonReccurentPatients[observation_id], RecurrenceRule)\n",
    "\n",
    "print('#############################   GET MEMORY   ##########################################')\n",
    "print(RecurrenceRule.get_memory())\n",
    "print('############################  GET CONDITION  ##########################################')\n",
    "print(RecurrenceRule.get_condition())\n",
    "print()\n",
    "\n",
    "NonRecurrenceRule = Memory(0.2, 0.8, GenerateRules())\n",
    "for i in range(10000):\n",
    "    observation_id = choice([0, 1, 2])\n",
    "    patient = choice([0, 1])\n",
    "    if patient == 1:\n",
    "        type_i_feedback(NonReccurentPatients[observation_id], NonRecurrenceRule)\n",
    "    else:\n",
    "        type_ii_feedback(ReccurentPatients[observation_id], NonRecurrenceRule)\n",
    "\n",
    "print('#############################   GET MEMORY   ##########################################')\n",
    "print(NonRecurrenceRule.get_memory())\n",
    "print('############################  GET CONDITION  ##########################################')\n",
    "print(NonRecurrenceRule.get_condition())\n",
    "print()\n",
    "\n",
    "\n",
    "def classify(observation, RecurrenceRules, NonRecurrenceRules):\n",
    "    vote_sum = 0\n",
    "    for RecurrenceRule in RecurrenceRules:\n",
    "        if evaluate_condition(observation, RecurrenceRule.get_condition()):\n",
    "            vote_sum += 1\n",
    "    for NonRecurrenceRule in NonRecurrenceRules:\n",
    "        if evaluate_condition(observation, NonRecurrenceRule.get_condition()):\n",
    "            vote_sum -= 1\n",
    "    if vote_sum > 0:\n",
    "        return \"Recurrence\"\n",
    "    if vote_sum <= 0:\n",
    "        return \"Non-Recurrence\"\n",
    "\n",
    "print('################ Classification run ##################')\n",
    "for patient in patients:\n",
    "    print(classify(patient, [RecurrenceRule], [NonRecurrenceRule]))"
   ],
   "id": "f80eb159a50367b7",
   "outputs": [
    {
     "name": "stdout",
     "output_type": "stream",
     "text": [
      "#############################   GET MEMORY   ##########################################\n",
      "{'Deg-malign 1': 1, 'Deg-malign 2': 1, 'Deg-malign 3': 10, 'NOT Deg-malign 1': 2, 'NOT Deg-malign 2': 1, 'NOT Deg-malign 3': 3, 'Menopause ge40': 10, 'Menopause lt40': 1, 'Menopause premeno': 2, 'NOT Menopause ge40': 5, 'NOT Menopause lt40': 1, 'NOT Menopause premeno': 1, 'Inv-nodes 0-2': 1, 'Inv-nodes 3-5': 10, 'Inv-nodes 6-8': 10, 'NOT Inv-nodes 0-2': 6, 'NOT Inv-nodes 3-5': 1, 'NOT Inv-nodes 6-8': 1}\n",
      "############################  GET CONDITION  ##########################################\n",
      "['Deg-malign 3', 'Menopause ge40', 'Inv-nodes 3-5', 'Inv-nodes 6-8', 'NOT Inv-nodes 0-2']\n",
      "\n",
      "#############################   GET MEMORY   ##########################################\n",
      "{'Deg-malign 1': 10, 'Deg-malign 2': 7, 'Deg-malign 3': 2, 'NOT Deg-malign 1': 1, 'NOT Deg-malign 2': 1, 'NOT Deg-malign 3': 6, 'Menopause ge40': 9, 'Menopause lt40': 1, 'Menopause premeno': 9, 'NOT Menopause ge40': 2, 'NOT Menopause lt40': 1, 'NOT Menopause premeno': 1, 'Inv-nodes 0-2': 10, 'Inv-nodes 3-5': 1, 'Inv-nodes 6-8': 1, 'NOT Inv-nodes 0-2': 1, 'NOT Inv-nodes 3-5': 1, 'NOT Inv-nodes 6-8': 1}\n",
      "############################  GET CONDITION  ##########################################\n",
      "['Deg-malign 1', 'Deg-malign 2', 'NOT Deg-malign 3', 'Menopause ge40', 'Menopause premeno', 'Inv-nodes 0-2']\n",
      "\n",
      "################ Classification run ##################\n",
      "Recurrence\n",
      "Non-Recurrence\n",
      "Recurrence\n",
      "Non-Recurrence\n",
      "Non-Recurrence\n",
      "Non-Recurrence\n"
     ]
    }
   ],
   "execution_count": 1655
  }
 ],
 "metadata": {
  "kernelspec": {
   "display_name": "Python 3",
   "language": "python",
   "name": "python3"
  },
  "language_info": {
   "codemirror_mode": {
    "name": "ipython",
    "version": 2
   },
   "file_extension": ".py",
   "mimetype": "text/x-python",
   "name": "python",
   "nbconvert_exporter": "python",
   "pygments_lexer": "ipython2",
   "version": "2.7.6"
  }
 },
 "nbformat": 4,
 "nbformat_minor": 5
}
